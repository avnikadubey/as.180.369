{
 "cells": [
  {
   "cell_type": "markdown",
   "id": "b4a85f59-a20d-42f7-999e-8113ecad6402",
   "metadata": {},
   "source": [
    "### Class 08 References Notes ###"
   ]
  },
  {
   "cell_type": "code",
   "execution_count": null,
   "id": "f80ac234-f7bd-4945-8265-de719f1d5867",
   "metadata": {},
   "outputs": [],
   "source": [
    "Discuss Citation Tools While Writing Papers\n",
    "- "
   ]
  }
 ],
 "metadata": {
  "kernelspec": {
   "display_name": "Python 3 (ipykernel)",
   "language": "python",
   "name": "python3"
  },
  "language_info": {
   "codemirror_mode": {
    "name": "ipython",
    "version": 3
   },
   "file_extension": ".py",
   "mimetype": "text/x-python",
   "name": "python",
   "nbconvert_exporter": "python",
   "pygments_lexer": "ipython3",
   "version": "3.10.10"
  }
 },
 "nbformat": 4,
 "nbformat_minor": 5
}
