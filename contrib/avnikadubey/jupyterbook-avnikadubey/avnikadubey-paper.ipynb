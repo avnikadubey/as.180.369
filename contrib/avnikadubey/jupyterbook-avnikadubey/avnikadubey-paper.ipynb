{
 "cells": [
  {
   "cell_type": "markdown",
   "id": "d9cdd406-78c2-4225-83e0-d64265d4ba07",
   "metadata": {},
   "source": [
    "### Avnika's Paper"
   ]
  },
  {
   "cell_type": "markdown",
   "id": "6f3ad7fc-7d35-4e0e-bd74-6d855a4a5f17",
   "metadata": {},
   "source": [
    "*Commit 1 Update: I wanted to provide this update here as I didn't change anything on my JuptyerBook today; however, I spent hours working on my project in terms of data sourcing. After presenting my findings from last class, Professor Carroll mentioned that the data I was using wasn't robust and that growth rates would be better to use. Unfortunately, ESG data is quite hard to access and most organizations require you to pay for their products to access the data, so I went on a whole seven hour hunt to figure out a newfound way to analyze my topic. I re-read the data/metholodogy sections of literature reviews, I tried to contact some organizations to provide me with a trial period to access data (which was ALMOST successful), and even asked ChatGPT for advice on where to get free-ESG performance growth data from both at the firm level and index level. Alas, after hours of researching and downloading tens of excel datasets, I had no luck. Thankfully though, on my maybe 120th attempt at asking ChatGPT targetted questions about datasets, it referred me to a website that was trying to make ESG data more accessible called ESGBook! I quickly created an account and realized that the tool helped provide ESG scores for companies free to the public (so long as you contribute too: thankfully, I help out with the Hopkins endowement fund). After finding this holy grail tool, I created my own portfolio that included large-cap ESG companies across India, China, Russia, and Brazil so that I can see their individual ESG rating. I will pair these ratings with ROA information I will find on Yahoo Finance tomorrow to create my own dataset to track the relation between financial performance (dependent variable) and ESG-integration (independent variable) on emerging market firms. "
   ]
  },
  {
   "cell_type": "markdown",
   "id": "13458a06-79df-4ff5-a511-330dcfc99f6a",
   "metadata": {},
   "source": [
    "## Abstract\n",
    "\n",
    "In the 2010s, corporate responsibility gained prominence in global business discussions, positively impacting financial performance in East Asian, European, and American markets. This study investigates the relationship between Environmental, Social, and Governance (ESG) performance and corporate profitability in emerging markets, understanding the extent to which corporate responsibility augments profit margins. We examine this correlation, considering regional variations in corporate responsibility due to institutional, cultural, and legislative differences.\n",
    "\n",
    "Data from the MSCI Emerging Market database, which covers over 2,000 companies, will be used, with a focus on ESG-sensitive industries prevalent in BRIC nations of Brazil, Russia, India, and China. Our primary hypothesis tests if emerging market firms incorporating ESG principles outperform non-ESG counterparts within their countries. Additionally, we quantitatively measure the divergence in profitability between ESG-integrated and non-ESG companies. This research underscores the value of adopting corporate social responsibility in emerging markets, beyond practices in developed markets."
   ]
  },
  {
   "cell_type": "markdown",
   "id": "6f1caf87-9d57-47da-956c-bc7414de2df2",
   "metadata": {},
   "source": [
    "## Introduction\n",
    "The concept of Environmental, Social, and Governance (ESG) has experienced substantial growth within financial markets over the past two decades, exerting a profound influence on investment strategies in both European and American markets. Commencing in the 2010s, a notable influx of capital into ESG-focused funds has emerged as a prominent trend, expected to gain further momentum throughout the 2020s {cite:t} `perez2011python`(D'Amato, 2020). This surge in ESG interest and its implications for corporate profitability has captured the attention of a diverse array of stakeholders, including politicians, consumers, CEOs, retail, and institutional investors. These stakeholders are increasingly attuned to the expanding prevalence and significance of sustainable investing principles in the global economy, exemplified by the ascent of ESG-related equities. Following a decade of extensive analysis into the profound impact of ESG on profitability in European and American markets, a discernible shift is evident among investors who are now eager to integrate Corporate Social Responsibility (CSR) principles into emerging markets (Lee, 2022).\n",
    "\n",
    "ESG manifests differently within various geopolitical contexts. In developed nations, corporate social responsibility is primarily evident through sustainable business practices and equitable employee treatment, serving as compelling incentives for investors to allocate capital to a company based on its reputation and standards (Cornett, 2016). However, this framework is less applicable to emerging markets, where the benefits of effective institutional communication with the market, facilitated through comprehensive and reliable information in reports, significantly influence investor interest (Garcia, 2017). In emerging markets, the pursuit of enhanced profitability aligns with the imperative for improved governance, social responsibility, environmental practices, and the efficient utilization of environmental resources (Cheng et al., 2014).\n",
    "\n",
    "For established firms in emerging economies with substantial capital stock, the integration of ESG into business practices serves as a pivotal strategy to reduce investor uncertainty, business risk, and the cost of capital (Bassen et al., 2006). Business risk encompasses a company's failure to meet its financial and social objectives, as mandated by both its shareholders and government regulations, with a focus on sustainability. Instances of business risk can have lasting repercussions on a firm's reputation, affecting the relationship between shareholders and company executives. An example is the Deepwater Horizon oil spill involving BP in the Gulf of Mexico (Roberto, 2011). In this case, inadequate CSR management had a dual effect, damaging shareholder relationships with crucial business partners and influencing consumer perceptions, leading to mass boycotts. The consequences of irresponsible corporate management encompass quantifiable financial declines and the intangible loss of corporate goodwill, especially detrimental for companies operating with a baseline level of investor uncertainty in emerging markets. \n",
    "\n",
    "Importantly, when companies operate responsibly, mitigating their risk of regulatory penalties or consumer boycotts, profitability tends to rise as investors are drawn to the enterprise. This phenomenon is particularly significant in emerging markets with sensitive industries, such as the energy and industrial sectors, which have pronounced socio-environmental impacts (Garcia et al., 2017). Leveraging the MSCI database of emerging market firms, this study aims to discern the relationship between ESG integration and corporate profitability among companies within sensitive industries. It will underscore the incremental benefits derived from augmenting corporate social responsibility measures, such as fostering information symmetries, transparency, and sustainable capital allocation, across emerging markets. Ultimately, by evaluating the ESG performance of companies across various economic sectors in different regions of the world, this research project seeks to make a substantial contribution to the literature on global business management, emphasizing the imperative need for CSR adoption beyond developed markets. Moreover, this research proves essential in dismantling neocolonial economic systems as it seeks to identify business management practices and help developing markets reform to achieve their full potential, outperforming developed markets with longstanding histories of global economic privilege."
   ]
  },
  {
   "cell_type": "markdown",
   "id": "7b0d67d0-a807-4ba8-a2a4-1273685134b5",
   "metadata": {},
   "source": [
    "## Literature Review\n",
    "Compose first draft of literature review"
   ]
  },
  {
   "cell_type": "markdown",
   "id": "5595dcba-43a4-4efd-8f3c-eb4d1ce88496",
   "metadata": {},
   "source": [
    "## Metholodogy\n",
    "This is the approach I took, as well as its justification"
   ]
  },
  {
   "cell_type": "markdown",
   "id": "60d53393-eea5-4989-93a0-602d76e25c51",
   "metadata": {},
   "source": [
    "## Results\n",
    "[TBU Next Week]"
   ]
  },
  {
   "cell_type": "markdown",
   "id": "bdab7346-fbf2-4342-8bb8-dfcf9e8acb1c",
   "metadata": {},
   "source": [
    "## References\n",
    "[TBU Next Week]"
   ]
  },
  {
   "cell_type": "code",
   "execution_count": null,
   "id": "fb052d78-bded-4efa-984c-5c3d97787efd",
   "metadata": {},
   "outputs": [],
   "source": []
  }
 ],
 "metadata": {
  "kernelspec": {
   "display_name": "Python 3 (ipykernel)",
   "language": "python",
   "name": "python3"
  },
  "language_info": {
   "codemirror_mode": {
    "name": "ipython",
    "version": 3
   },
   "file_extension": ".py",
   "mimetype": "text/x-python",
   "name": "python",
   "nbconvert_exporter": "python",
   "pygments_lexer": "ipython3",
   "version": "3.10.10"
  }
 },
 "nbformat": 4,
 "nbformat_minor": 5
}
