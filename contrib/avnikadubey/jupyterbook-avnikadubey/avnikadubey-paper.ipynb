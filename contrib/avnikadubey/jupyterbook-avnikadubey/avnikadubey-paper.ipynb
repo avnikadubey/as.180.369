{
 "cells": [
  {
   "cell_type": "markdown",
   "id": "d9cdd406-78c2-4225-83e0-d64265d4ba07",
   "metadata": {
    "editable": true,
    "slideshow": {
     "slide_type": ""
    },
    "tags": [
     "hide-input"
    ]
   },
   "source": [
    "# Identifying the Existance of an ESG-Premium across Emerging Markets"
   ]
  },
  {
   "cell_type": "markdown",
   "id": "b460d8b7-ef8b-4d9d-a292-42f5d99e1adc",
   "metadata": {},
   "source": [
    "### Avnika Dubey, 2024, Johns Hopkins University"
   ]
  },
  {
   "cell_type": "markdown",
   "id": "13458a06-79df-4ff5-a511-330dcfc99f6a",
   "metadata": {
    "editable": true,
    "slideshow": {
     "slide_type": ""
    },
    "tags": []
   },
   "source": [
    "## Abstract\n",
    "\n",
    "At the onset of the 2010s, corporate social responsibility (CSR) gained prominence in industrial organization and global business discussions due to its positive impact on financial performance across developed East Asian, European, and American markets. Given the regulatory, institutional, and cultural differences across developed and developing markets, this research investigates the relationship between environmental, social, and governance (ESG) performance and corporate profitability in emerging markets. The study employs an OLS regression approach utilizing a self-created dataset of 276 large-capitalization firms in Brazil, Russia, India, and China (BRIC) to test whether ESG disclosures among emerging market firms lead to superior firm performance. To perform this analysis, each firm within the dataset receives an ESG Performance Score (PS) and Global Compact Score (GC) calculated by the ESGBook databases that are tested against two dependent financial metrics for 2023: Return on Assets (ROA) and Tobin’s Q. The primary hypothesis tests the existence of an ESG-premium among analogous emerging market firms and seeks to quantitatively measure divergence in profitability between companies with high-ESG (PS > 0.5) and minimal-ESG (PS < 0.5) incorporation. This research furthers understanding of the relationship between ESG dimensions and financial performance for emerging market business contexts, beyond the practices of developed markets.\n",
    "\n",
    "(Note for First Draft: Tobin's Q and control variables are not added within the data yet as I will be getting access to those data points later in the week after Monday the 6th).\n",
    "(Note for First Draft: I sent Matt an email about this already, but my Markdown cells are resulting in spelling errors that don't exist in the actual Markdown cell that I type in. If you see those towards the ends of the paragraphs (its only impacting the ends), please be aware that those aren't spelling errors but the code being weird. I will bring up the issue in class.)"
   ]
  },
  {
   "cell_type": "markdown",
   "id": "6f1caf87-9d57-47da-956c-bc7414de2df2",
   "metadata": {},
   "source": [
    "## 1. Introduction\r\n"
   ]
  },
  {
   "cell_type": "markdown",
   "id": "73bdcafe-9845-45f2-a502-d2dffb698438",
   "metadata": {
    "editable": true,
    "slideshow": {
     "slide_type": ""
    },
    "tags": []
   },
   "source": [
    "A statement was published in the journal BioScience by scientists from 153 nations on the 40th anniversary of the first world climate conference, held in Geneva in 1979, decrying an urgent need for corporate sustainability measures. The publication’s message highlighted the consequences of the accelerating climate crisis, with a strong forewarning that the Earth was rapidly running out of time. The heightened focus on climate change over the past two decades has been one of the leading contributors to the growing interest in CSR, especially due to the disproportionately high rates of emission and unsustainable business practices employed across business and industrial sectors of the Global North. In fact, countries classified by the UN Framework Convention on Climate Change in the Annex 1 Global North comparison group accounted for 92% of excess emissions, with the G8 nations (the USA, EU-28, Russia, Japan, and Canada) being together responsible for about 85% {cite:p}`quantifying_hickel_2020`. Within the well-developed and capital-intensive markets of East Asia, Europe, and the United States, the robust social pressures of acknowledging unsustainable business practices have catalyzed firms to incorporate ESG solutions into business strategies, exerting a profound influence on management practice, investment strategies, and research over the past two decades [{cite:t}`corporate_bansal_2002`, {cite:t}`beyond_dyllick_2002`]. A shift has emerged where organizations now face pointed pressure to maximize their productivity and profitability while adhering to demands by consumers, suppliers, employees, and public and private actors to institute sustainable CSR measures {cite:p}`outsourcing_javalgi_2009`. To remain competitive and achieve success in contemporary developed markets, firms must prioritize their financial growth while considering and accounting for the social and environmental implications of their activities {cite:p}`development_maas_2014`."
   ]
  },
  {
   "cell_type": "markdown",
   "id": "059835d1-e720-4682-8968-185e6bb10c38",
   "metadata": {},
   "source": [
    "Over the course of the past 20 years, ESG implementation in developed markets have correlated with stronger financial performance, causing a growing number of executives to allocate time and resources to implement proactive CSR strategies. In fact, a survey conducted by the United Nations found that 99% of chief executive officers (CEOs) presiding over companies with over one billion in revenues acknowledged the “important” contributions of sustainability to financial growth, with a large majority of CEOs stressing its “very important” nature {cite:p}`testing_garcia_2020`. In fact, the percentage of CEOs who found “no clear link” between sustainability and business value consistently decreased from 37% in 2013 to 26% in 2019. Considering the benefits to financial performance that result from ESG integration across developed markets, it remains prudent to investigate the premium of incorporating socio-environmental responsibility practices across firms within divergent regional contexts. \n"
   ]
  },
  {
   "cell_type": "markdown",
   "id": "1523b18b-6b7c-4eaf-bf8e-2bd8fa756a58",
   "metadata": {},
   "source": [
    "Attitudes regarding CSR differ across geopolitical contexts largely due to the institutional difference hypothesis (IDH), which describes the proactive socio-environmental behavior of companies and their propensity to be rewarded across regional lines {cite:p}`testing_garcia_2020`. The strength of a country’s social, economic, and regulatory institutions largely dictate the robustness with which CSR is promoted and the magnitude of its pay-off. Institutional robustness is strongly correlated with developed nations, resulting in the greatest rates of CSR inclusion, primarily evident through sustainable business practices and equitable employee treatment. Moreover, firms with high levels of ESG integration tend to underscore a resilience to future economic and climate shocks, making them attractive enterprises for investors to invest capital in and enhancing the firms market value across time. In contrast, IDH claims that areas with underdeveloped social, political, and legal institutions tend to value ESG integration less as the country’s regulatory environment is ill-suited to capture the potential profits associated with CSR. The institutional theory, however, is largely debated as scholars consider the incorporation of ESG in underdeveloped markets to be of strategic value - that is, allowing for firms to leverage the downtrodden sociopolitical infrastructure of a country to distinguish its enterprise, attract foreign investment, and experience the enhanced profitability that comes from marginally-improved socio-environmental oversight {cite:p}`development_maas_2014`. Conversely, the risks of inadequate CSR management within emerging markets are more pronounced, such as damaging international shareholder relationships, prematurely depleting capital stock and natural resources, and negatively influencing consumer perceptions. Irresponsible corporate management results in quantifiable financial declines and the intangible loss of corporate goodwill, an especially detrimental occurrence for emerging market companies that already operate with a baseline level of investor uncertainty due to country-specific socio-political risks."
   ]
  },
  {
   "cell_type": "markdown",
   "id": "59007af0-d3b5-40fc-8468-38e7dbfaabd8",
   "metadata": {},
   "source": [
    "Despite the validity of IDH inspiring an important discussion on the ESG-premium across regions, the majority of research regarding CSR incorporation has traditionally highlighted developed economies across North America, Europe, and East Asia. Importantly, there exists a lack of literature and data investigating the correlation between CSR and financial profitability within emerging markets which present distinct social, political, and legal landscapes from developed nations. This remains especially salient to understand as the next twenty years will serve as a pivotal opportunity for emerging markets to advance beyond developed markets. In fact, research conducted by S&P Global finds that aggregate market consumption among emerging markets is expanding at an accelerated rate and is expected to overtake the global market consumption of advanced economies by 2050 {cite:p}`quantifying_hickel_2020`. An important externality associated with increased market activity is environmental pollution, making the proactive inclusion of ESG initiatives among emerging market firms especially considerable to prevent magnified levels of socio-environmental damage {cite:p}`bhattacharya_2022`. However, highlighting the ESG premium across emerging markets remains an essential pre-requisite to encourage emerging market firms to institute proactive and preventative CSR measures. This research aims to address this specific gap, providing literature and data to identify whether a premium exists among emerging markets in the same way that it does across developed markets."
   ]
  },
  {
   "cell_type": "markdown",
   "id": "f7a4b49d-1dd2-4437-8bf3-60b805fbb3d5",
   "metadata": {},
   "source": [
    "An additional debate concurrent with the ESG space is the relationship between CSR and financial performance (FP). Although widely studied across developed markets, the general consensus regarding results are controversial. Many studies point to a positive linear relationship between CSR and FP, while others conclude negative or null results. Despite the variation in results, a 2015 meta-study congregated over 2,000 research journals on the relationship between ESG and FP, confirming that there exists a slight positive correlation on average {cite:p}`pay_margolis_2009`. Extending this debate to the realm of emerging markets will help provide clarity to the ongoing debate. "
   ]
  },
  {
   "cell_type": "markdown",
   "id": "3334ffcd-67e0-4a15-9f1a-d5cf9e88e75c",
   "metadata": {},
   "source": [
    "Researchers within the field of industrial organization are yet to come to a conclusion on the results of the correlation between CSR and financial performance across divergent markets, indicating that a significant gap still exists within research. Motivated by the aforementioned vacuums, this study leverages a self-created dataset of 276 large-capitalization firms across Brazil, Russia, India, and China (BRIC) to discern the relationship between ESG integration and corporate profitability among companies within emerging markets. Through this lens, the research aims to identify a correlation between levels of ESG integration, as measured by ESGBook Performance and Global Compact Scores, and the standard metrics of financial performance of Return on Assets (ROA) and Tobin’s Q. Ultimately, by evaluating the ESG performance of companies across various economic sectors in different regions of the world, this research seeks to make a substantial contribution to the literature on global business management and industrial organization, emphasizing the benefit of and imperative need for CSR adoption beyond developed markets. Moreover, this research proves essential in dismantling neocolonial economic systems as it seeks to identify business management practices and help developing markets reform to achieve their full profit potential while minimizing negative externalities, outperforming developed markets with longstanding histories of global economic privilege. "
   ]
  },
  {
   "cell_type": "markdown",
   "id": "7b0d67d0-a807-4ba8-a2a4-1273685134b5",
   "metadata": {},
   "source": [
    "## 2. Literature Review\n",
    "The consideration of corporate social responsibility was sparked in the early 1990s within management literature through the argumentation of {cite:ts}`porter_van_1995`, who argued that regulations on environmental standards and governance would make firms more competitive and encourage them to innovate methods to increase profitability, productivity, and effective resource usage. Since the debut of Porter’s Hypothesis, an enormous body of literature has developed questioning the role of sustainability in company strategy and the relationship between environmental and social governance and firm performance.\n",
    "\n",
    "A heated debate remains regarding whether the relationship between CSR and corporate profitability is positive or negative, with numerous studies corroborating both stances. Proponents of the positive relationship examine developed countries, finding that piecemeal incorporation of ESG factors augments firm value and financial performance. In considering environmental standards, literature confirming the importance of environmental regulation on financial performance has been documented across the last twenty years. For instance, {cite:t}`corporate_dowell_2000` found that firms that followed strict international environmental standards often had larger market values, as indicated by their Tobin’s Q, compared to companies that abided by a less severe environmental standard. More recently, {cite:t}`revisiting_gull_2022` re-examined the relationship between environmental and financial performance among hundreds of firms and concluded that the ten firms with the highest environmental sustainability scores fiscally outperformed 80 firms with average environmental scores. Conversely, authors have highlighted the adverse impact of environmental considerations on financial performance, suggesting that the negative impact on profitability results largely due to suffocating accounting standards and excessive spending to meet sustainability goals {cite:p}`managers_cheng_2023`. \n",
    "\n",
    "The same inconclusive stance is less robust when considering the impacts of rigid social and governance measures on profitability. For example, research by {cite:t}`value_serafeim_2017` notes that non-financial disclosures related to the regulatory position have longstanding impacts on the future financial performance of a firm as it attracts streams of external investment, increasing a company's long-term growth targets by about three percentage points. Their findings are corroborated by research by {cite:t}`sustainable_zhang_2022` who explain how diversity in background and perspective among management boards enhances the development of productive policies and increases transparency while decreasing financial restrictions a company may face. In fact, the positive correlation persists across geographic boundaries as studies by {cite:t}`esg_giannopoulos_2022` and {cite:t}`disclosure_laskar_2016` confirm that across the geopolitically diverse countries of Norway and India, increasing CSR initiatives more focused on augmenting social and governance standards led to improved financial performance. Although the above studies focus on the individual effects of any of the piecemeal E, S, and G factors on financial performance, a litany of more recent research confirms these findings on a more holistic basis by analyzing stakeholder theory to validate the positive relationship between firm performance and cumulative ESG disclosure scores. However, despite much of the robust support for the positive correlation, many reputable studies exist that point to an inconclusive stance regarding data, such as {cite:t}`examining_kalia_2022` who analyze ESG disclosures among healthcare firms in developed and developing economies and find mixed empirical evidence to support a specific direction for the correlation. The mixed review found in {cite:t}`examining_kalia_2022` is corroborated by the research of {cite:t}`esg_khoury_2022` who conducted a similar analysis across the public healthcare sector of 38 countries and found inconclusive evidence. \n",
    "\n",
    "The phenomenon of globalization has further complicated the discussion of CSR and its impacts on profitability. With international norms developed by global organizations such as the International Monetary Fund and World Trade Organization and government agencies like the International Labor Organization, firms are pressured to adopt the ascribed codes of conduct to operate in accordance with international frameworks safeguarding environmental and workers' rights. However, the standardized acceptance of these frameworks is not equivalent across international borders, with developed countries abiding by global sustainability frameworks more diligently than emerging markets. The disproportionate adherence to sustainability standards in emerging markets persists as decreased levels of social, labor, and environmental standards result in lower costs for resources and production, rendering it more cost-effective to reject sustainability frameworks compared to competitors operating within developed countries {cite:p}`environmental_duquegrisales_2021`.  These lowered costs call into question whether the competitive advantage of integrating CSR initiatives on financial performance outweighs the cost reductions associated with the status quo. This question has become more salient for both researchers and CEOs as globalization and CSR has spread across the last few years. \n",
    "\n",
    "### 2.1: International Studies ###\n",
    "\n",
    "Over the past two decades, academia has centered the discussion surrounding CSR and CFP around developed countries, finding a positive correlation between ESG disclosure scores and financial performance {cite:p}`pay_margolis_2009`. However, as academics consider the rise of countries outside of the developed, Western sphere – that is, the newfound ascension of select East Asian Tigers in the late 1990s and the BRIC countries from 2000 to 2010, - studies analyzing data from outside the Global North have challenged the presumption of the positive correlation. While studies investigating the CSR-CFP relationship among European countries like Germany and North American markets like Canada are plentiful and come to similar conclusions, academics are now turning towards understanding the institutional differences between the Global North and Global South and its implications on institutional organization, socio-environmental sustainability, and corporate profitability {cite:p}`corporate_dobers_2009`. \n",
    "\n",
    "Focusing primarily on developing countries, many of the studies conducted have resulted in divergent results from their developed country counterparts. For instance, a study by {cite:t}`determinant_liu_2009` analyzing 175 companies across China found no significant relationship between financial performance and environmental disclosure. In fact, these findings were corroborated by {cite:t}`environmental_duquegrisales_2021` who analyzed 104 mulitlatina firms and found a slight negative correlation between socio-economic governance and economic performance. This can be explained through research by {cite:t}`corporate_dobers_2009` who investigates the phenomenon of emerging markets producing mixed results, noting that a country’s unique institutional frameworks and economic stance impact its degree of ESG adoption. The level of ESG adoption then has varying effects on the financial performance of an emerging market firm due to the political and socio-economic circumstances of the country. Other regional factors that impact the degree of ESG adoption include religious and cultural considerations. For instance, a study by {cite:t}`motivations_momin_2013` analyzed 39 executives of multinational subsidiaries in Bangladesh and found that the practice of the Islamic faith by the management board influenced the levels of transparency and disclosure in business practices due to the faith’s discouragement of corporate self-praise. A consequence of this cultural element was decreased levels of corporate transparency, reduced levels of legal compliance, the rejection of stakeholder’s right to information, and greater noncompliance to health and safety laws. \n",
    "\n",
    "In addition to the difference in institutional backgrounds impacting ESG adoption, many firms within emerging markets are targeted by Global North firms as vessels to conduct high-pollution operations due to the lack of sustainable accountability within the country. For instance, {cite:t}`review_yang_2015` investigate the “race to the bottom” in China where many foreign companies from developed countries seek out Chinese firms faced with weaker environmental regulations and lower compliance costs to conduct operations that would receive significant penalties in developed countries. This consideration has neo-colonial implications as developed countries offshore their environmentally unsustainable production to countries bound by weaker socio-environmental policies, removing an emerging market’s ability to transform its processes to become more sustainable and profitable as well as putting employees and firms at greater risk of long-term, irreversible damage. Instead of recognizing the potential strategic benefit of CSR investments, emerging market firms are forced to perpetually exist within a status quo where profitability arises from interacting with unsustainable and damaging industries while developed nations reap the fiscal and reputational benefits of high-quality, sustainable ESG integration long into the future.\n",
    "\n",
    "Due to the aforementioned considerations, the concept of CSR is relatively new to many emerging market countries. Given their strategic importance as global growth accelerators over the next twenty years though, it is imperative that academia disentangles the mystery surrounding the efficacy of ESG integration in augmenting financial profitability and preventing the negative externalities of accelerated growth among emerging market firms {cite:p}`bhattacharya_2022`. In considering the BRIC countries specifically, disclosure standards vary significantly from country to country, and there remains a lack of consensus regarding frameworks for sustainability reporting. Despite the lack of a foundational framework, many international organizations such as the Global Reporting Initiative and the International Sustainability Standard Board have taken measurable strides in developing sustainability frameworks designed to address the tailored socio-political contexts and needs of high-income, middle-income, and low-income countries {cite:p}`corporate_dobers_2009`. ESG's growing presence as a central aspect in industrial organization, especially to attract socially conscious consumers and shareholders, motivates researchers to continue addressing the current gaps in CSR literature, verifying the relationship between ESG disclosure and profitability among firms characterized by different market contexts. \n"
   ]
  },
  {
   "cell_type": "markdown",
   "id": "c2ef5dbe-9015-4792-bee6-b4a5b1c28785",
   "metadata": {},
   "source": [
    "## 3. Metholodogy\n",
    "This study employed multiple filters to determine the sample. Firstly, due to the geographic focus on emerging markets, the countries Brazil, Russia, India, and China were selected as they act as a well-established dataset representing the frontier of countries within emerging markets. Secondly, the firms selected through ESGBook were required to have more than USD $1 billion in annual revenue, representing large market capitalization firms. The focus on large market-capitalization firms is strategic as mid to low-capitalization firms within the Global South tend to have smaller operations that are less subject to the potential benefits of ESG integration. From these initial criteria, 401 firms were included in the study. In continuing the extraction of firms from the dataset, firms that did not disclose high-quality financial data on the Thomson Reuters database were removed from the sample to ensure that data points were precise and measurable. In a similar vein, firms that failed to disclose specified financial, environmental, social, and corporate governance information on ESGBook were not taken into consideration as the team sought to pinpoint precise rationales for piecemeal E, S, and G performance scores.\n",
    "\n",
    "### 3.1: Independent Variables: \n",
    "\n",
    "After applying the selection criteria, I arrived at a finalized, self-created sample of 276 disclosed firms with observable data points for the fiscal year 2023 (of note, a large timeline of data will be used for the final draft of the research as access to the data becomes available in a week's time). Each firm’s Performance Score was calculated through an analysis of the company’s annual, CSR, and sustainability reports while its Global Compact score was developed in consideration of the market context and political situation of the country. Both scores are calculated on a scale of 1 to 100, with ~50 being the neutral range. Scores between 30-49 are considered to have poor-ESG performance while those above 50 are considered to perform relatively well. The Performance Score identifies which companies are best suited to outperform over the long-term considering management practices, finite resources, and labor standards. The Global Compact Score approximates reputational risk by providing a normative assessment of the company’s adherence to four principles of the United Nations Global Compact: human rights, labor rights, the environment, and anti-corruption. Both scores provide differing perspectives on a company’s sustainability position and, in tandem, provide the full context of a firm’s sustainability metrics and its relation to its surrounding regulatory and social environment. Importantly, these scores are re-calculated and cleaned daily according to a set of quality data checks, providing the most timely and consistent data for the study. \n",
    "\n",
    "Provided below are the breakdowns considered in compiling the individual E,S, and G scores. On the right-hand side of the indicator is a value that represents the overall score for the dataset used.\n",
    "\n",
    "**Table 1: Piecemeal E,S, and G Consideration Factors**"
   ]
  },
  {
   "cell_type": "code",
   "execution_count": 1,
   "id": "567c692d-69f1-459b-99bf-4be619705089",
   "metadata": {
    "editable": true,
    "slideshow": {
     "slide_type": ""
    },
    "tags": [
     "hide-input"
    ]
   },
   "outputs": [],
   "source": [
    "import pandas as pd"
   ]
  },
  {
   "cell_type": "code",
   "execution_count": 3,
   "id": "41b81bf3-aa71-452d-9e24-d0ca141e5b05",
   "metadata": {
    "editable": true,
    "slideshow": {
     "slide_type": ""
    },
    "tags": [
     "hide-input"
    ]
   },
   "outputs": [
    {
     "data": {
      "text/html": [
       "<div>\n",
       "<style scoped>\n",
       "    .dataframe tbody tr th:only-of-type {\n",
       "        vertical-align: middle;\n",
       "    }\n",
       "\n",
       "    .dataframe tbody tr th {\n",
       "        vertical-align: top;\n",
       "    }\n",
       "\n",
       "    .dataframe thead th {\n",
       "        text-align: right;\n",
       "    }\n",
       "</style>\n",
       "<table border=\"1\" class=\"dataframe\">\n",
       "  <thead>\n",
       "    <tr style=\"text-align: right;\">\n",
       "      <th></th>\n",
       "      <th>Portfolio Environmental Categorical Considerations</th>\n",
       "      <th>ESG Performance Score</th>\n",
       "    </tr>\n",
       "  </thead>\n",
       "  <tbody>\n",
       "    <tr>\n",
       "      <th>0</th>\n",
       "      <td>Water/Waste Management</td>\n",
       "      <td>58.72</td>\n",
       "    </tr>\n",
       "    <tr>\n",
       "      <th>1</th>\n",
       "      <td>Ecological Impacts</td>\n",
       "      <td>54.52</td>\n",
       "    </tr>\n",
       "    <tr>\n",
       "      <th>2</th>\n",
       "      <td>Product Design</td>\n",
       "      <td>51.33</td>\n",
       "    </tr>\n",
       "    <tr>\n",
       "      <th>3</th>\n",
       "      <td>Energy Management</td>\n",
       "      <td>51.22</td>\n",
       "    </tr>\n",
       "    <tr>\n",
       "      <th>4</th>\n",
       "      <td>GHG Emissions</td>\n",
       "      <td>49.57</td>\n",
       "    </tr>\n",
       "    <tr>\n",
       "      <th>5</th>\n",
       "      <td>Materials Sourcing</td>\n",
       "      <td>48.28</td>\n",
       "    </tr>\n",
       "    <tr>\n",
       "      <th>6</th>\n",
       "      <td>Waste and Hazards</td>\n",
       "      <td>46.70</td>\n",
       "    </tr>\n",
       "    <tr>\n",
       "      <th>7</th>\n",
       "      <td>Air Quality</td>\n",
       "      <td>43.20</td>\n",
       "    </tr>\n",
       "    <tr>\n",
       "      <th>8</th>\n",
       "      <td>= Total Score</td>\n",
       "      <td>51.48</td>\n",
       "    </tr>\n",
       "  </tbody>\n",
       "</table>\n",
       "</div>"
      ],
      "text/plain": [
       "  Portfolio Environmental Categorical Considerations  ESG Performance Score\n",
       "0                             Water/Waste Management                  58.72\n",
       "1                                 Ecological Impacts                  54.52\n",
       "2                                     Product Design                  51.33\n",
       "3                                  Energy Management                  51.22\n",
       "4                                      GHG Emissions                  49.57\n",
       "5                                 Materials Sourcing                  48.28\n",
       "6                                  Waste and Hazards                  46.70\n",
       "7                                        Air Quality                  43.20\n",
       "8                                      = Total Score                  51.48"
      ]
     },
     "execution_count": 3,
     "metadata": {},
     "output_type": "execute_result"
    }
   ],
   "source": [
    "df = pd.DataFrame({\n",
    "    'Portfolio Environmental Categorical Considerations':    ['Water/Waste Management', 'Ecological Impacts', \"Product Design\", 'Energy Management', 'GHG Emissions', 'Materials Sourcing','Waste and Hazards','Air Quality','= Total Score'],\n",
    "    'ESG Performance Score':   [58.72,54.52,51.33,51.22,49.57,48.28,46.70,43.20,51.48],\n",
    "})\n",
    "\n",
    "df"
   ]
  },
  {
   "cell_type": "code",
   "execution_count": 9,
   "id": "29a496c7-f7c7-44ef-8e16-eb4880d92fbf",
   "metadata": {
    "editable": true,
    "slideshow": {
     "slide_type": ""
    },
    "tags": [
     "hide-input"
    ]
   },
   "outputs": [],
   "source": [
    "import pandas as pd"
   ]
  },
  {
   "cell_type": "code",
   "execution_count": 11,
   "id": "b5d333ce-37d0-471b-84c5-2e75fbf6bb0c",
   "metadata": {
    "editable": true,
    "slideshow": {
     "slide_type": ""
    },
    "tags": [
     "hide-input"
    ]
   },
   "outputs": [
    {
     "data": {
      "text/html": [
       "<div>\n",
       "<style scoped>\n",
       "    .dataframe tbody tr th:only-of-type {\n",
       "        vertical-align: middle;\n",
       "    }\n",
       "\n",
       "    .dataframe tbody tr th {\n",
       "        vertical-align: top;\n",
       "    }\n",
       "\n",
       "    .dataframe thead th {\n",
       "        text-align: right;\n",
       "    }\n",
       "</style>\n",
       "<table border=\"1\" class=\"dataframe\">\n",
       "  <thead>\n",
       "    <tr style=\"text-align: right;\">\n",
       "      <th></th>\n",
       "      <th>Portfolio Social Categorical Considerations</th>\n",
       "      <th>ESG Performance Score</th>\n",
       "    </tr>\n",
       "  </thead>\n",
       "  <tbody>\n",
       "    <tr>\n",
       "      <th>0</th>\n",
       "      <td>Customer Welfare</td>\n",
       "      <td>61.39</td>\n",
       "    </tr>\n",
       "    <tr>\n",
       "      <th>1</th>\n",
       "      <td>Employee Health</td>\n",
       "      <td>54.21</td>\n",
       "    </tr>\n",
       "    <tr>\n",
       "      <th>2</th>\n",
       "      <td>Human Rights</td>\n",
       "      <td>53.28</td>\n",
       "    </tr>\n",
       "    <tr>\n",
       "      <th>3</th>\n",
       "      <td>Access and Affordability</td>\n",
       "      <td>52.86</td>\n",
       "    </tr>\n",
       "    <tr>\n",
       "      <th>4</th>\n",
       "      <td>Product Quality</td>\n",
       "      <td>50.58</td>\n",
       "    </tr>\n",
       "    <tr>\n",
       "      <th>5</th>\n",
       "      <td>Selling Practices</td>\n",
       "      <td>49.67</td>\n",
       "    </tr>\n",
       "    <tr>\n",
       "      <th>6</th>\n",
       "      <td>Employee Engagement</td>\n",
       "      <td>48.58</td>\n",
       "    </tr>\n",
       "    <tr>\n",
       "      <th>7</th>\n",
       "      <td>Labor Practices</td>\n",
       "      <td>46.87</td>\n",
       "    </tr>\n",
       "    <tr>\n",
       "      <th>8</th>\n",
       "      <td>Data Security</td>\n",
       "      <td>44.15</td>\n",
       "    </tr>\n",
       "    <tr>\n",
       "      <th>9</th>\n",
       "      <td>Customer Privacy</td>\n",
       "      <td>40.10</td>\n",
       "    </tr>\n",
       "    <tr>\n",
       "      <th>10</th>\n",
       "      <td>= Total Score</td>\n",
       "      <td>52.16</td>\n",
       "    </tr>\n",
       "  </tbody>\n",
       "</table>\n",
       "</div>"
      ],
      "text/plain": [
       "   Portfolio Social Categorical Considerations  ESG Performance Score\n",
       "0                             Customer Welfare                  61.39\n",
       "1                              Employee Health                  54.21\n",
       "2                                 Human Rights                  53.28\n",
       "3                     Access and Affordability                  52.86\n",
       "4                              Product Quality                  50.58\n",
       "5                            Selling Practices                  49.67\n",
       "6                          Employee Engagement                  48.58\n",
       "7                              Labor Practices                  46.87\n",
       "8                                Data Security                  44.15\n",
       "9                             Customer Privacy                  40.10\n",
       "10                               = Total Score                  52.16"
      ]
     },
     "execution_count": 11,
     "metadata": {},
     "output_type": "execute_result"
    }
   ],
   "source": [
    "df = pd.DataFrame({\n",
    "    'Portfolio Social Categorical Considerations':    ['Customer Welfare', 'Employee Health', \"Human Rights\", 'Access and Affordability', 'Product Quality','Selling Practices', 'Employee Engagement', 'Labor Practices', 'Data Security', 'Customer Privacy','= Total Score'],\n",
    "    'ESG Performance Score':   [61.39,54.21,53.28,52.86,50.58,49.67,48.58,46.87,44.15,40.10,52.16],\n",
    "})\n",
    "\n",
    "df"
   ]
  },
  {
   "cell_type": "code",
   "execution_count": 12,
   "id": "e170c8c1-a539-48b1-b135-e9d7cf730c8f",
   "metadata": {
    "editable": true,
    "slideshow": {
     "slide_type": ""
    },
    "tags": [
     "hide-input"
    ]
   },
   "outputs": [
    {
     "data": {
      "text/html": [
       "<div>\n",
       "<style scoped>\n",
       "    .dataframe tbody tr th:only-of-type {\n",
       "        vertical-align: middle;\n",
       "    }\n",
       "\n",
       "    .dataframe tbody tr th {\n",
       "        vertical-align: top;\n",
       "    }\n",
       "\n",
       "    .dataframe thead th {\n",
       "        text-align: right;\n",
       "    }\n",
       "</style>\n",
       "<table border=\"1\" class=\"dataframe\">\n",
       "  <thead>\n",
       "    <tr style=\"text-align: right;\">\n",
       "      <th></th>\n",
       "      <th>Portfolio Governance Categorical Considerations</th>\n",
       "      <th>ESG Performance Score</th>\n",
       "    </tr>\n",
       "  </thead>\n",
       "  <tbody>\n",
       "    <tr>\n",
       "      <th>0</th>\n",
       "      <td>Business Model</td>\n",
       "      <td>56.68</td>\n",
       "    </tr>\n",
       "    <tr>\n",
       "      <th>1</th>\n",
       "      <td>Legal and Compliance</td>\n",
       "      <td>52.03</td>\n",
       "    </tr>\n",
       "    <tr>\n",
       "      <th>2</th>\n",
       "      <td>Supply Chain Management</td>\n",
       "      <td>50.60</td>\n",
       "    </tr>\n",
       "    <tr>\n",
       "      <th>3</th>\n",
       "      <td>Business Ethics</td>\n",
       "      <td>46.64</td>\n",
       "    </tr>\n",
       "    <tr>\n",
       "      <th>4</th>\n",
       "      <td>Systemic Risk Management</td>\n",
       "      <td>46.37</td>\n",
       "    </tr>\n",
       "    <tr>\n",
       "      <th>5</th>\n",
       "      <td>Critical Risk Management</td>\n",
       "      <td>43.07</td>\n",
       "    </tr>\n",
       "    <tr>\n",
       "      <th>6</th>\n",
       "      <td>Physical Climate Impacts</td>\n",
       "      <td>42.22</td>\n",
       "    </tr>\n",
       "    <tr>\n",
       "      <th>7</th>\n",
       "      <td>Competative Behavior</td>\n",
       "      <td>40.81</td>\n",
       "    </tr>\n",
       "    <tr>\n",
       "      <th>8</th>\n",
       "      <td>= Total Score</td>\n",
       "      <td>52.16</td>\n",
       "    </tr>\n",
       "  </tbody>\n",
       "</table>\n",
       "</div>"
      ],
      "text/plain": [
       "  Portfolio Governance Categorical Considerations  ESG Performance Score\n",
       "0                                  Business Model                  56.68\n",
       "1                            Legal and Compliance                  52.03\n",
       "2                         Supply Chain Management                  50.60\n",
       "3                                 Business Ethics                  46.64\n",
       "4                        Systemic Risk Management                  46.37\n",
       "5                        Critical Risk Management                  43.07\n",
       "6                        Physical Climate Impacts                  42.22\n",
       "7                            Competative Behavior                  40.81\n",
       "8                                   = Total Score                  52.16"
      ]
     },
     "execution_count": 12,
     "metadata": {},
     "output_type": "execute_result"
    }
   ],
   "source": [
    "df = pd.DataFrame({\n",
    "    'Portfolio Governance Categorical Considerations':    ['Business Model', 'Legal and Compliance', \"Supply Chain Management\", 'Business Ethics', 'Systemic Risk Management','Critical Risk Management', 'Physical Climate Impacts', 'Competative Behavior','= Total Score'],\n",
    "    'ESG Performance Score':   [56.68,52.03,50.60,46.64,46.37,43.07,42.22,40.81,52.16],\n",
    "})\n",
    "\n",
    "df"
   ]
  },
  {
   "cell_type": "markdown",
   "id": "79cbf932-b54d-4344-95ab-338987e87abd",
   "metadata": {},
   "source": [
    "### 3.2: Dependent Variables\n",
    "\n",
    "The dependent variable of interest is financial performance. In this study, we evaluate a firms performance based on the two accounting and market performance indicators of return on assets (ROA) and Tobin’s Q. ROA is used as proxy for financial performance due to significant literature explaining that financial accounting returns are the best unbiased predictors of firm financial performance {cite:p}`testing_garcia_2020`. Studies on ESG define ROA as the net income’s ratio to total assets, and it is used as a proxy for financial performance due to its focus on how managerial policies and efficient asset and capital utilization impact earnings and earnings potentials. Under the same premise, a firm’s Tobin’s Q serves as a strong representation of a company’s financial performance as affected by more qualitative, ESG metrics. Tobin’s Q is calculated by computed total market value divided by total assets value, providing insight into how assets are valued across a country’s market {cite:p}`environmental_duquegrisales_2021`. A Tobin's Q measure greater than 1 insinuates that a company is overvalued compared to its tangible assets, indicating that the impacts of market perception or goodwill augment its score. ESG inclusion can largely influence Tobin's Q in a meaningful way. Both metrics have had a long history within panel data regression models and are largely effective in explaining the impact of ESG incorporation on financial profitability. Provided below is a representation of the variables used in this study, their descriptions, and the source materials for this data.\n",
    "\n",
    "(Note for Matt: I will be including TobinsQ and control variables in my next draft as I don't have access to the data yet. If I don't receive it in time, I will be removing those considerations from my research.)\n",
    "\n",
    "**Table 2: Variable Summary**"
   ]
  },
  {
   "cell_type": "code",
   "execution_count": 1,
   "id": "21a81b3e-b3bf-4835-a86f-fc2fc5a473da",
   "metadata": {
    "editable": true,
    "slideshow": {
     "slide_type": ""
    },
    "tags": [
     "hide-input"
    ]
   },
   "outputs": [],
   "source": [
    "import pandas as pd"
   ]
  },
  {
   "cell_type": "code",
   "execution_count": 2,
   "id": "b6632a76-ec1d-4b24-9951-060d80248b37",
   "metadata": {
    "editable": true,
    "slideshow": {
     "slide_type": ""
    },
    "tags": [
     "hide-input"
    ]
   },
   "outputs": [
    {
     "data": {
      "text/html": [
       "<div>\n",
       "<style scoped>\n",
       "    .dataframe tbody tr th:only-of-type {\n",
       "        vertical-align: middle;\n",
       "    }\n",
       "\n",
       "    .dataframe tbody tr th {\n",
       "        vertical-align: top;\n",
       "    }\n",
       "\n",
       "    .dataframe thead th {\n",
       "        text-align: right;\n",
       "    }\n",
       "</style>\n",
       "<table border=\"1\" class=\"dataframe\">\n",
       "  <thead>\n",
       "    <tr style=\"text-align: right;\">\n",
       "      <th></th>\n",
       "      <th>Variable</th>\n",
       "      <th>Description</th>\n",
       "      <th>Source</th>\n",
       "    </tr>\n",
       "  </thead>\n",
       "  <tbody>\n",
       "    <tr>\n",
       "      <th>0</th>\n",
       "      <td>ESG</td>\n",
       "      <td>Measured by ranging from 0% to 100%, based on ...</td>\n",
       "      <td>ESGBook</td>\n",
       "    </tr>\n",
       "    <tr>\n",
       "      <th>1</th>\n",
       "      <td>ROA</td>\n",
       "      <td>Return on assets calculated by dividing the re...</td>\n",
       "      <td>Thomas Reuters Database</td>\n",
       "    </tr>\n",
       "    <tr>\n",
       "      <th>2</th>\n",
       "      <td>Tobin's Q</td>\n",
       "      <td>Total market value divided by total assets value</td>\n",
       "      <td>Thomas Reuters Database</td>\n",
       "    </tr>\n",
       "    <tr>\n",
       "      <th>3</th>\n",
       "      <td>SIZE</td>\n",
       "      <td>The natural logarithm of the firm's revenue</td>\n",
       "      <td>Surroca et al. (2010)</td>\n",
       "    </tr>\n",
       "    <tr>\n",
       "      <th>4</th>\n",
       "      <td>LEV</td>\n",
       "      <td>Used debt on total assets to control the level...</td>\n",
       "      <td>Nelling and Webb (2009)</td>\n",
       "    </tr>\n",
       "    <tr>\n",
       "      <th>5</th>\n",
       "      <td>MCAP</td>\n",
       "      <td>The natural logarithm of the firm's market cap...</td>\n",
       "      <td>Mendes-da-Silva and Onusic (2014)</td>\n",
       "    </tr>\n",
       "  </tbody>\n",
       "</table>\n",
       "</div>"
      ],
      "text/plain": [
       "    Variable                                        Description  \\\n",
       "0        ESG  Measured by ranging from 0% to 100%, based on ...   \n",
       "1        ROA  Return on assets calculated by dividing the re...   \n",
       "2  Tobin's Q   Total market value divided by total assets value   \n",
       "3       SIZE        The natural logarithm of the firm's revenue   \n",
       "4        LEV  Used debt on total assets to control the level...   \n",
       "5       MCAP  The natural logarithm of the firm's market cap...   \n",
       "\n",
       "                              Source  \n",
       "0                            ESGBook  \n",
       "1            Thomas Reuters Database  \n",
       "2            Thomas Reuters Database  \n",
       "3              Surroca et al. (2010)  \n",
       "4            Nelling and Webb (2009)  \n",
       "5  Mendes-da-Silva and Onusic (2014)  "
      ]
     },
     "execution_count": 2,
     "metadata": {},
     "output_type": "execute_result"
    }
   ],
   "source": [
    "df = pd.DataFrame({\n",
    "    'Variable':    ['ESG', 'ROA', \"Tobin's Q\", 'SIZE', 'LEV', 'MCAP'],\n",
    "    'Description':   [\"Measured by ranging from 0% to 100%, based on information on governance, environmental, and social pillars of firms\", \n",
    "                      \"Return on assets calculated by dividing the result by total asset\", \n",
    "                      \"Total market value divided by total assets value\", \n",
    "                      \"The natural logarithm of the firm's revenue\", \n",
    "                      \"Used debt on total assets to control the level of indebtedness of the company\", \n",
    "                      \"The natural logarithm of the firm's market capitalization (calculated by multiplying the number of shares of the company with the share price traded on the capital market).\"],\n",
    "    'Source': [\"ESGBook\", \"Thomas Reuters Database\",\"Thomas Reuters Database\",\"Surroca et al. (2010)\",\"Nelling and Webb (2009)\",\"Mendes-da-Silva and Onusic (2014)\"],\n",
    "})\n",
    "\n",
    "df"
   ]
  },
  {
   "cell_type": "markdown",
   "id": "18fa190c-0fe0-43c8-8aaf-8b495bc6002b",
   "metadata": {},
   "source": [
    "### 3.3: Regression Methodology\n",
    "\n",
    "Running a typical OLS regression, this empirical analysis will use the panel ESG performance data and financial performance data to test the effects of ESG integration across emerging markets. Four regression models were run to examine the directional relationship of ESG disclosure on financial performance to control for potential endogeneity issues. In the first and second econometric models, the financial metric of ROA was regressed on the CSR variables of ESG Performance Score and Global Compact score, finding a slight positive correlation between higher CSR variables and asset return. In the third regression, a more piecemeal approach was used, finding the causal effect of each ESG elemental score on the financial performance metric. The equations representing all four trials are mentioned below.\n"
   ]
  },
  {
   "cell_type": "markdown",
   "id": "23058587-654b-4bc2-a312-6f3f93466043",
   "metadata": {},
   "source": [
    "Regression 1\n",
    "$$\n",
    "ROA_i = \\beta_0 + \\beta_1 ESG_i + U_i\n",
    "$$\n",
    "\n",
    "Regression 2\n",
    "$$\n",
    "ROA_i = \\beta_0 + \\beta_1 GC_i + U_i\n",
    "$$\n",
    "\n",
    "Regression 3\n",
    "$$\n",
    "ROA_i = \\beta_0 + \\beta_1 ESG_i + \\beta_2 E_i + \\beta_1 S_i + U_i\n",
    "$$\n",
    "\n",
    "Regression 4: Excluding Financial Markets\n",
    "$$\n",
    "ROA_i = \\beta_0 + \\beta_1 ESG_i + U_i\n",
    "$$\n",
    "1"
   ]
  },
  {
   "cell_type": "markdown",
   "id": "4bce796f-1e26-4a3e-8369-85dcea5a0730",
   "metadata": {},
   "source": [
    "For the purpose of robustness testing, the experiment was conducted again excluding companies from the financial sector to be in line with other empirical studies [Martínez-Ferrero et al., 2013], [Aras et al., 2010], {cite:p}`pay_margolis_2009`. Removing companies from the financial sector provided more of an unbiased result as their financial ratios such as their free cash flow differ largely from firms across other economic sectors, impacting their performance. Despite removing financial companies from the sample, the results did not change substantially."
   ]
  },
  {
   "cell_type": "markdown",
   "id": "60d53393-eea5-4989-93a0-602d76e25c51",
   "metadata": {},
   "source": [
    "## 4. Results Section\n",
    "This section presents the results from the four regressions conducted above. I will first present the descriptive statistics, followed by a discussion of each regression and its implications. As a brief aside, metrics on the dependent variable Tobins Q and the control variables will be provided in the next iteration of this results section as the data measuring those variables was inaccessible. In the meantime, an alternative data source is being consulted."
   ]
  },
  {
   "cell_type": "markdown",
   "id": "bbee63a9-043f-4e90-a6d2-3305f15caa90",
   "metadata": {},
   "source": [
    "### 4.1: Descriptive statistics\n",
    "The table below provides a brief summary of the data used within the analysis. For context, ESG and GC Performance Scores are measured in units (from 0 to 100), while ROA is measured in percentage points (from 0% to 100%).\n",
    "\n",
    "**Table 3: Statistical Summary**"
   ]
  },
  {
   "cell_type": "code",
   "execution_count": 4,
   "id": "8c0cf773-57c5-4d5f-9f8e-97db5954b65e",
   "metadata": {
    "editable": true,
    "slideshow": {
     "slide_type": ""
    },
    "tags": [
     "hide-input"
    ]
   },
   "outputs": [],
   "source": [
    "import warnings\n",
    "warnings.filterwarnings('ignore')\n",
    "\n",
    "# Libraries to help with reading and manipulating data\n",
    "import math\n",
    "from scipy.stats import norm\n",
    "import scipy.stats as stats\n",
    "import pandas as pd\n",
    "import numpy as np\n",
    "import matplotlib.pyplot as plt\n",
    "import statsmodels.api as sm\n",
    "from IPython.display import display, Math\n",
    "\n",
    "# Libraries to help with data visualization\n",
    "import matplotlib.pyplot as plt\n",
    "import seaborn as sns\n",
    "%matplotlib inline"
   ]
  },
  {
   "cell_type": "code",
   "execution_count": 5,
   "id": "2a2f2b41-3ab7-4676-b80c-759d1a60ef95",
   "metadata": {
    "editable": true,
    "slideshow": {
     "slide_type": ""
    },
    "tags": [
     "hide-input"
    ]
   },
   "outputs": [
    {
     "data": {
      "text/html": [
       "<div>\n",
       "<style scoped>\n",
       "    .dataframe tbody tr th:only-of-type {\n",
       "        vertical-align: middle;\n",
       "    }\n",
       "\n",
       "    .dataframe tbody tr th {\n",
       "        vertical-align: top;\n",
       "    }\n",
       "\n",
       "    .dataframe thead th {\n",
       "        text-align: right;\n",
       "    }\n",
       "</style>\n",
       "<table border=\"1\" class=\"dataframe\">\n",
       "  <thead>\n",
       "    <tr style=\"text-align: right;\">\n",
       "      <th></th>\n",
       "      <th>count</th>\n",
       "      <th>mean</th>\n",
       "      <th>std</th>\n",
       "      <th>min</th>\n",
       "      <th>25%</th>\n",
       "      <th>50%</th>\n",
       "      <th>75%</th>\n",
       "      <th>max</th>\n",
       "    </tr>\n",
       "  </thead>\n",
       "  <tbody>\n",
       "    <tr>\n",
       "      <th>ESG</th>\n",
       "      <td>271.0</td>\n",
       "      <td>51.206531</td>\n",
       "      <td>5.428109</td>\n",
       "      <td>39.50</td>\n",
       "      <td>47.265</td>\n",
       "      <td>50.98</td>\n",
       "      <td>54.910</td>\n",
       "      <td>65.29</td>\n",
       "    </tr>\n",
       "    <tr>\n",
       "      <th>E</th>\n",
       "      <td>271.0</td>\n",
       "      <td>54.120849</td>\n",
       "      <td>6.858436</td>\n",
       "      <td>41.59</td>\n",
       "      <td>49.175</td>\n",
       "      <td>53.37</td>\n",
       "      <td>59.080</td>\n",
       "      <td>71.92</td>\n",
       "    </tr>\n",
       "    <tr>\n",
       "      <th>G</th>\n",
       "      <td>271.0</td>\n",
       "      <td>48.778672</td>\n",
       "      <td>5.643333</td>\n",
       "      <td>39.80</td>\n",
       "      <td>44.310</td>\n",
       "      <td>47.73</td>\n",
       "      <td>51.965</td>\n",
       "      <td>66.77</td>\n",
       "    </tr>\n",
       "    <tr>\n",
       "      <th>S</th>\n",
       "      <td>271.0</td>\n",
       "      <td>49.691919</td>\n",
       "      <td>5.960529</td>\n",
       "      <td>33.83</td>\n",
       "      <td>45.280</td>\n",
       "      <td>49.77</td>\n",
       "      <td>54.075</td>\n",
       "      <td>63.70</td>\n",
       "    </tr>\n",
       "    <tr>\n",
       "      <th>GC</th>\n",
       "      <td>271.0</td>\n",
       "      <td>59.628303</td>\n",
       "      <td>6.188879</td>\n",
       "      <td>40.71</td>\n",
       "      <td>55.995</td>\n",
       "      <td>60.46</td>\n",
       "      <td>63.745</td>\n",
       "      <td>72.45</td>\n",
       "    </tr>\n",
       "    <tr>\n",
       "      <th>ROA 2023</th>\n",
       "      <td>271.0</td>\n",
       "      <td>4.688192</td>\n",
       "      <td>2.038616</td>\n",
       "      <td>1.20</td>\n",
       "      <td>3.200</td>\n",
       "      <td>4.30</td>\n",
       "      <td>5.700</td>\n",
       "      <td>13.50</td>\n",
       "    </tr>\n",
       "    <tr>\n",
       "      <th>gc_262</th>\n",
       "      <td>271.0</td>\n",
       "      <td>59.620590</td>\n",
       "      <td>6.202290</td>\n",
       "      <td>40.71</td>\n",
       "      <td>55.940</td>\n",
       "      <td>60.82</td>\n",
       "      <td>63.795</td>\n",
       "      <td>72.45</td>\n",
       "    </tr>\n",
       "  </tbody>\n",
       "</table>\n",
       "</div>"
      ],
      "text/plain": [
       "          count       mean       std    min     25%    50%     75%    max\n",
       "ESG       271.0  51.206531  5.428109  39.50  47.265  50.98  54.910  65.29\n",
       "E         271.0  54.120849  6.858436  41.59  49.175  53.37  59.080  71.92\n",
       "G         271.0  48.778672  5.643333  39.80  44.310  47.73  51.965  66.77\n",
       "S         271.0  49.691919  5.960529  33.83  45.280  49.77  54.075  63.70\n",
       "GC        271.0  59.628303  6.188879  40.71  55.995  60.46  63.745  72.45\n",
       "ROA 2023  271.0   4.688192  2.038616   1.20   3.200   4.30   5.700  13.50\n",
       "gc_262    271.0  59.620590  6.202290  40.71  55.940  60.82  63.795  72.45"
      ]
     },
     "execution_count": 5,
     "metadata": {},
     "output_type": "execute_result"
    }
   ],
   "source": [
    "data = pd.read_csv(\"compileddata.csv\")\n",
    "\n",
    "# Copying data to another variable to avoid any changes to the original data\n",
    "df = data.copy()\n",
    "df.describe().T"
   ]
  },
  {
   "cell_type": "markdown",
   "id": "b1e0f43a-59a1-4e8f-8721-604b5cdd69e0",
   "metadata": {},
   "source": [
    "In this analysis, I will briefly call out keynote observations. As can be observed from the above table, the average score of the ESG variable within the database centered at 51, with a range of scores between 39 to 65. This finding could potentially serve as an indication of a biased dataset. Despite aggregating firms from an unbiased source, it is likely that firms that chose to disclose information regarding their ESG practices already had robust ESG performances. Of note, the average GC score of the dataset was slightly higher than the average ESG Performance Score. The standard deviation across all variables remained largely consistent around 5, with the exception of the ROA which had even less movement at 2."
   ]
  },
  {
   "cell_type": "markdown",
   "id": "9a1bba66-3466-4f5f-bd21-1ced5ed09b93",
   "metadata": {},
   "source": [
    "Regarding the geographic representation of the data, a large majority of the dataset centered around Chinese firms. In fact, the specific distribution of observations across Brazil, Russia, India and China was 16, 11, 50, and 194, respectively. Despite this geographic bias in the construction of the dataset, there were no significant impacts on the regression coefficients as will be seen in the latter half of this analysis since the variation in firm ESG-levels across the Chinese firms was significant."
   ]
  },
  {
   "cell_type": "code",
   "execution_count": 22,
   "id": "8705f6ef-6cef-4c23-ae32-f2aa8e67622c",
   "metadata": {
    "editable": true,
    "slideshow": {
     "slide_type": ""
    },
    "tags": [
     "hide-input"
    ]
   },
   "outputs": [
    {
     "name": "stdout",
     "output_type": "stream",
     "text": [
      "/bin/bash: -c: line 2: syntax error: unexpected end of file\n"
     ]
    },
    {
     "data": {
      "image/png": "[encoded data removed]",
      "text/plain": [
       "<Figure size 640x480 with 1 Axes>"
      ]
     },
     "metadata": {},
     "output_type": "display_data"
    }
   ],
   "source": [
    "sns.countplot(x=\"Country\", data=df, palette=\"winter\")\n",
    "plt.title('Overrepresentation of Chinese Firms in the Sample', loc='left')\n",
    "plt.xlabel(\" \")\n",
    "plt.ylabel(\"Number of Firms\")\n",
    "![]plt.show()"
   ]
  },
  {
   "cell_type": "markdown",
   "id": "83575015-2624-4700-af37-d08c10dbf849",
   "metadata": {},
   "source": [
    "### 4.2: Regressions\n",
    "#### Regression 1: \n",
    "The first regression pertains to measuring the causal effect of a higher ESG Score, given the specific ESG conditions listed above in the Methodology, on the potential outcome of a company's Return On Assets. \n",
    "$$\n",
    "ROA_i = \\beta_0 + \\beta_1 ESG_i + U_i\n",
    "$$\n",
    "In this regression, we conducted an Ordinary Least Squares (OLS) regression to examine the relationship between a firm's ESG score and its ROA, reported for 2023. The results indicate that the ESG score has a statistically significant positive effect on ROA. The coefficient for ESG is estimated at 0.2201 (p < 0.001), suggesting that a one-unit increase in the ESG score is associated with a 0.2201 unit increase in ROA. This result is robust with an R-squared value of 0.344, indicating that the ESG score explains approximately 34.4% of the variance in ROA. The constant term, representing the intercept, is estimated at -6.5835 (p < 0.001), indicating that even in the absence of ESG, there is a negative impact on ROA. Realistically, no company operates without implementing a single factor that corresponds to ESG performance, making the negative intercept a valid conclusion. The overall model's F-statistic of 140.8 is highly significant (p < 0.001), demonstrating the model's goodness of fit. The Durbin-Watson statistic of 1.649 indicates that there is no significant serial correlation in the residuals, and the Jarque-Bera test suggests that the residuals are normally distributed. Provided below is a description of the OLS results and a graphical representation of the sample regression line calculated and its fit within the data."
   ]
  },
  {
   "cell_type": "code",
   "execution_count": 9,
   "id": "f48552ef-d590-4d4f-9d7d-4d46dc3cd500",
   "metadata": {
    "editable": true,
    "slideshow": {
     "slide_type": ""
    },
    "tags": [
     "hide-input"
    ]
   },
   "outputs": [
    {
     "name": "stdout",
     "output_type": "stream",
     "text": [
      "                            OLS Regression Results                            \n",
      "==============================================================================\n",
      "Dep. Variable:               ROA 2023   R-squared:                       0.344\n",
      "Model:                            OLS   Adj. R-squared:                  0.341\n",
      "Method:                 Least Squares   F-statistic:                     140.8\n",
      "Date:                Mon, 06 Nov 2023   Prob (F-statistic):           2.15e-26\n",
      "Time:                        01:01:22   Log-Likelihood:                -520.03\n",
      "No. Observations:                 271   AIC:                             1044.\n",
      "Df Residuals:                     269   BIC:                             1051.\n",
      "Df Model:                           1                                         \n",
      "Covariance Type:            nonrobust                                         \n",
      "==============================================================================\n",
      "                 coef    std err          t      P>|t|      [0.025      0.975]\n",
      "------------------------------------------------------------------------------\n",
      "const         -6.5835      0.955     -6.891      0.000      -8.464      -4.703\n",
      "ESG            0.2201      0.019     11.864      0.000       0.184       0.257\n",
      "==============================================================================\n",
      "Omnibus:                       65.362   Durbin-Watson:                   1.649\n",
      "Prob(Omnibus):                  0.000   Jarque-Bera (JB):              178.569\n",
      "Skew:                           1.079   Prob(JB):                     1.68e-39\n",
      "Kurtosis:                       6.340   Cond. No.                         490.\n",
      "==============================================================================\n",
      "\n",
      "Notes:\n",
      "[1] Standard Errors assume that the covariance matrix of the errors is correctly specified.\n"
     ]
    }
   ],
   "source": [
    "X = df[\"ESG\"]\n",
    "Y = df[\"ROA 2023\"]\n",
    "X_and_constant = sm.add_constant(X)\n",
    "\n",
    "OLS_result = sm.OLS(Y, X_and_constant)\n",
    "result1=OLS_result.fit()\n",
    "beta_0_hat = result1.params[0]\n",
    "beta_1_hat = result1.params[1]\n",
    "print(result1.summary())"
   ]
  },
  {
   "cell_type": "code",
   "execution_count": 10,
   "id": "131917a2-c764-4ab2-bdd9-29e43c76e483",
   "metadata": {
    "editable": true,
    "slideshow": {
     "slide_type": ""
    },
    "tags": [
     "hide-input"
    ]
   },
   "outputs": [
    {
     "data": {
      "text/plain": [
       "Text(0, 0.5, 'Company Return On Assets \\n 2023 Calculation')"
      ]
     },
     "execution_count": 10,
     "metadata": {},
     "output_type": "execute_result"
    },
    {
     "data": {
      "image/png": "[encoded data removed]",
      "text/plain": [
       "<Figure size 500x300 with 1 Axes>"
      ]
     },
     "metadata": {},
     "output_type": "display_data"
    }
   ],
   "source": [
    "#now plot the predicted line on the graph\n",
    "f, axs = plt.subplots(1, 1, figsize=(5, 3))\n",
    "\n",
    "# Step 1: create the scatter plot: str vs testscr\n",
    "sns.scatterplot(data = df, x = \"ESG\", y = \"ROA 2023\", ax=axs)\n",
    "\n",
    "\n",
    "# Step 2: add the sample regression line\n",
    "low_x, high_x = axs.get_xlim()\n",
    "# get the value range (14-26)\n",
    "x_range = np.linspace(start = low_x, stop = high_x, num = 100)\n",
    "#get those points\n",
    "axs.plot(x_range, result1.params[\"const\"] + result1.params[\"ESG\"] * x_range, color=\"red\")\n",
    "#plot a line between those points and the prediction line\n",
    "\n",
    "plt.title('Sample Prediction Line Fits the Data Very Well', loc='left')\n",
    "plt.xlabel(\"ESG Score \\n(Range Between 0-100)\")\n",
    "plt.ylabel(\"Company Return On Assets \\n 2023 Calculation\")\n"
   ]
  },
  {
   "cell_type": "markdown",
   "id": "a9a4dee8-ae41-4a61-ba6b-b38903ecb8e9",
   "metadata": {},
   "source": [
    "#### Regression 2: \n",
    "The second regression pertains to measuring the causal effect of a higher GC Score, given the specific GC conditions listed above in the Methodology, on the potential outcome of a company's ROA.\n",
    "$$\n",
    "ROA_i = \\beta_0 + \\beta_1 GC_i + U_i\n",
    "$$\n",
    "Within this regression, the results suggest that the GC score has a statistically significant positive effect on ROA, despite being slightly less influential than the ESG Score. The coefficient for GC is estimated at 0.0924 (p < 0.001), indicating that a one-unit increase in the GC score is associated with a 0.0924 unit increase in ROA. However, it's important to note that the R-squared value for this model is relatively low, standing at 0.079, implying that the GC score explains only a small portion of the variance in ROA. The constant term, representing the intercept, is estimated at -0.8220, though this coefficient is not statistically significant (p = 0.478), suggesting that the intercept is not significantly different from zero. The overall model's F-statistic is significant (p < 0.001), demonstrating the model's goodness of fit, despite the low R-squared value. The Durbin-Watson statistic of 1.910 indicates no significant serial correlation in the residuals, and the Jarque-Bera test suggests that the residuals are not perfectly normally distributed. These results highlight a significant, though relatively weak, relationship between GC scores and ROA in the sample of 271 observations. Provided below is a description of the OLS results generated through this regression, and a graphical representation of the flatter sample regression line. "
   ]
  },
  {
   "cell_type": "code",
   "execution_count": 14,
   "id": "6447de2b-698b-4026-98bd-5f2d46af782c",
   "metadata": {
    "editable": true,
    "slideshow": {
     "slide_type": ""
    },
    "tags": [
     "hide-input"
    ]
   },
   "outputs": [
    {
     "name": "stdout",
     "output_type": "stream",
     "text": [
      "                            OLS Regression Results                            \n",
      "==============================================================================\n",
      "Dep. Variable:               ROA 2023   R-squared:                       0.079\n",
      "Model:                            OLS   Adj. R-squared:                  0.075\n",
      "Method:                 Least Squares   F-statistic:                     22.98\n",
      "Date:                Mon, 06 Nov 2023   Prob (F-statistic):           2.71e-06\n",
      "Time:                        01:13:54   Log-Likelihood:                -565.95\n",
      "No. Observations:                 271   AIC:                             1136.\n",
      "Df Residuals:                     269   BIC:                             1143.\n",
      "Df Model:                           1                                         \n",
      "Covariance Type:            nonrobust                                         \n",
      "==============================================================================\n",
      "                 coef    std err          t      P>|t|      [0.025      0.975]\n",
      "------------------------------------------------------------------------------\n",
      "const         -0.8220      1.156     -0.711      0.478      -3.097       1.453\n",
      "GC             0.0924      0.019      4.794      0.000       0.054       0.130\n",
      "==============================================================================\n",
      "Omnibus:                       54.377   Durbin-Watson:                   1.910\n",
      "Prob(Omnibus):                  0.000   Jarque-Bera (JB):              108.419\n",
      "Skew:                           1.021   Prob(JB):                     2.86e-24\n",
      "Kurtosis:                       5.330   Cond. No.                         582.\n",
      "==============================================================================\n",
      "\n",
      "Notes:\n",
      "[1] Standard Errors assume that the covariance matrix of the errors is correctly specified.\n"
     ]
    }
   ],
   "source": [
    "X = df[\"GC\"]\n",
    "Y = df[\"ROA 2023\"]\n",
    "X_and_constant = sm.add_constant(X)\n",
    "\n",
    "OLS_result2 = sm.OLS(Y, X_and_constant)\n",
    "result2=OLS_result2.fit()\n",
    "beta_0_hat2 = result2.params[0]\n",
    "beta_1_hat2 = result2.params[1]\n",
    "print(result2.summary())"
   ]
  },
  {
   "cell_type": "code",
   "execution_count": 1,
   "id": "a5a377b7-261d-4a64-bfc3-42e2c73ff2b6",
   "metadata": {
    "editable": true,
    "slideshow": {
     "slide_type": ""
    },
    "tags": [
     "hide-input"
    ]
   },
   "outputs": [
    {
     "ename": "NameError",
     "evalue": "name 'plt' is not defined",
     "output_type": "error",
     "traceback": [
      "\u001b[0;31m---------------------------------------------------------------------------\u001b[0m",
      "\u001b[0;31mNameError\u001b[0m                                 Traceback (most recent call last)",
      "Cell \u001b[0;32mIn[1], line 2\u001b[0m\n\u001b[1;32m      1\u001b[0m \u001b[38;5;66;03m#now plot the predicted line on the graph\u001b[39;00m\n\u001b[0;32m----> 2\u001b[0m f, axs \u001b[38;5;241m=\u001b[39m \u001b[43mplt\u001b[49m\u001b[38;5;241m.\u001b[39msubplots(\u001b[38;5;241m1\u001b[39m, \u001b[38;5;241m1\u001b[39m, figsize\u001b[38;5;241m=\u001b[39m(\u001b[38;5;241m5\u001b[39m, \u001b[38;5;241m3\u001b[39m))\n\u001b[1;32m      4\u001b[0m \u001b[38;5;66;03m# Step 1: create the scatter plot: str vs testscr\u001b[39;00m\n\u001b[1;32m      5\u001b[0m sns\u001b[38;5;241m.\u001b[39mscatterplot(data \u001b[38;5;241m=\u001b[39m df, x \u001b[38;5;241m=\u001b[39m \u001b[38;5;124m\"\u001b[39m\u001b[38;5;124mGC\u001b[39m\u001b[38;5;124m\"\u001b[39m, y \u001b[38;5;241m=\u001b[39m \u001b[38;5;124m\"\u001b[39m\u001b[38;5;124mROA 2023\u001b[39m\u001b[38;5;124m\"\u001b[39m, ax\u001b[38;5;241m=\u001b[39maxs)\n",
      "\u001b[0;31mNameError\u001b[0m: name 'plt' is not defined"
     ]
    }
   ],
   "source": [
    "#now plot the predicted line on the graph\n",
    "f, axs = plt.subplots(1, 1, figsize=(5, 3))\n",
    "\n",
    "# Step 1: create the scatter plot: str vs testscr\n",
    "sns.scatterplot(data = df, x = \"GC\", y = \"ROA 2023\", ax=axs)\n",
    "\n",
    "\n",
    "# Step 2: add the sample regression line\n",
    "low_x, high_x = axs.get_xlim()\n",
    "# get the value range (14-26)\n",
    "x_range = np.linspace(start = low_x, stop = high_x, num = 100)\n",
    "#get those points\n",
    "axs.plot(x_range, result2.params[\"const\"] + result2.params[\"GC\"] * x_range, color=\"red\")\n",
    "#plot a line between those points and the prediction line\n",
    "\n",
    "plt.title('Slightly Flatter Relationship Between GC and ROA', loc='left')\n",
    "plt.xlabel(\"GC Score \\n(Range Between 0-100)\")\n",
    "plt.ylabel(\"Company Return On Assets \\n 2023 Calculation\")\n"
   ]
  },
  {
   "cell_type": "markdown",
   "id": "e648f36c-4bb9-4cba-bffe-b575beba6b33",
   "metadata": {
    "editable": true,
    "slideshow": {
     "slide_type": ""
    },
    "tags": []
   },
   "source": [
    "#### Regression 3:\n",
    "\n",
    "The third regression pertains to measuring the causal effect of each individual score within the aggregate ESG score on the potential outcome of a company's ROA.\n",
    "$$\n",
    "ROA_i = \\beta_0 + \\beta_1 ESG_i + \\beta_2 E_i + \\beta_1 S_i + U_i\n",
    "$$\n",
    "Examining the relationship between a firm's individual E, S, and G components of their ESG score on its ROA, the results indicate that these three individual ESG components collectively have a statistically significant impact on ROA, with a model R-squared of 0.364, suggesting that approximately 36.4% of the variance in ROA can be explained by the combination of E, S, and G scores. Specifically, the coefficients for E, S, and G are estimated at 0.0590 (p = 0.003), 0.0519 (p = 0.019), and 0.1254 (p < 0.001), respectively. This implies that for each unit increase in E, S, and G scores, ROA is expected to increase by 0.0590, 0.0519, and 0.1254 units, respectively. These breakdowns underscore that the most significant factor in the piecemeal ESG framework is the G score, impacting the ROA with a more severe coefficient. The R-squared value is 0.364, meaning that 36% of the variation in the financial metric can be attributed to the variation in the independent variables. The adjusted R-squared value actually increases to 35.7%, meaning that the residuals were effectively minimized after adding in more regressors. The constant term, representing the intercept, is estimated at -7.2019 (p < 0.001), indicating the expected ROA when all three ESG components are zero. \n",
    "The overall model's F-statistic is highly significant (p < 0.001), indicating the model's goodness of fit. The Durbin-Watson statistic of 1.643 suggests no significant serial correlation in the residuals. The Jarque-Bera test suggests that the residuals are not perfectly normally distributed but overall do not violate the model's assumpti.on Provided below is a description of the OLS results generated through this regressi , ana graphical representations oach fi'rms E, and S,G scores plotted agnst returns.e."
   ]
  },
  {
   "cell_type": "code",
   "execution_count": 16,
   "id": "2039d641-f28c-4157-b769-9e53fad09822",
   "metadata": {
    "editable": true,
    "slideshow": {
     "slide_type": ""
    },
    "tags": [
     "hide-input"
    ]
   },
   "outputs": [
    {
     "name": "stdout",
     "output_type": "stream",
     "text": [
      "                            OLS Regression Results                            \n",
      "==============================================================================\n",
      "Dep. Variable:               ROA 2023   R-squared:                       0.364\n",
      "Model:                            OLS   Adj. R-squared:                  0.357\n",
      "Method:                 Least Squares   F-statistic:                     50.99\n",
      "Date:                Mon, 06 Nov 2023   Prob (F-statistic):           4.34e-26\n",
      "Time:                        01:19:43   Log-Likelihood:                -515.68\n",
      "No. Observations:                 271   AIC:                             1039.\n",
      "Df Residuals:                     267   BIC:                             1054.\n",
      "Df Model:                           3                                         \n",
      "Covariance Type:            nonrobust                                         \n",
      "==============================================================================\n",
      "                 coef    std err          t      P>|t|      [0.025      0.975]\n",
      "------------------------------------------------------------------------------\n",
      "const         -7.2019      0.974     -7.391      0.000      -9.120      -5.283\n",
      "E              0.0590      0.019      3.046      0.003       0.021       0.097\n",
      "S              0.0519      0.022      2.360      0.019       0.009       0.095\n",
      "G              0.1254      0.024      5.215      0.000       0.078       0.173\n",
      "==============================================================================\n",
      "Omnibus:                       52.475   Durbin-Watson:                   1.643\n",
      "Prob(Omnibus):                  0.000   Jarque-Bera (JB):              117.935\n",
      "Skew:                           0.937   Prob(JB):                     2.46e-26\n",
      "Kurtosis:                       5.633   Cond. No.                         870.\n",
      "==============================================================================\n",
      "\n",
      "Notes:\n",
      "[1] Standard Errors assume that the covariance matrix of the errors is correctly specified.\n"
     ]
    }
   ],
   "source": [
    "X = df[[\"E\", \"S\",\"G\"]]\n",
    "X_and_constant = sm.add_constant(X)\n",
    "Y = df[\"ROA 2023\"]\n",
    "result3 = sm.OLS(Y, X_and_constant).fit()\n",
    "\n",
    "beta_0_hat3 = round(result3.params[0], 2)\n",
    "beta_1_hat3 = round(result3.params[1], 2)\n",
    "beta_2_hat3 = round(result3.params[2], 2)\n",
    "beta_3_hat3 = round(result3.params[3], 2)\n",
    "print(result3.summary())"
   ]
  },
  {
   "cell_type": "code",
   "execution_count": 17,
   "id": "27e6e074-6147-457e-97ef-455af44f318b",
   "metadata": {
    "editable": true,
    "slideshow": {
     "slide_type": ""
    },
    "tags": [
     "hide-input"
    ]
   },
   "outputs": [
    {
     "data": {
      "text/plain": [
       "Text(0, 0.5, 'Company Return On Assets \\n 2023 Calculation')"
      ]
     },
     "execution_count": 17,
     "metadata": {},
     "output_type": "execute_result"
    },
    {
     "data": {
      "image/png": "[encoded data removed]",
      "text/plain": [
       "<Figure size 500x300 with 1 Axes>"
      ]
     },
     "metadata": {},
     "output_type": "display_data"
    }
   ],
   "source": [
    "#average annual growth rate (Growth) on the average trade share (TradeShare)\n",
    "import seaborn as sns\n",
    "f, axs = plt.subplots(1, 1, figsize=(5, 3))\n",
    "sns.scatterplot(x=\"E\", y=\"ROA 2023\", data=df)\n",
    "\n",
    "plt.title('General Positive Relationship Between E-Score and ROA', loc='left')\n",
    "plt.xlabel(\"E Score \\n(Range Between 0-100)\")\n",
    "plt.ylabel(\"Company Return On Assets \\n 2023 Calculation\")"
   ]
  },
  {
   "cell_type": "code",
   "execution_count": 18,
   "id": "abfccddb-619a-4ed9-9a91-6b0b2b9efeea",
   "metadata": {
    "editable": true,
    "slideshow": {
     "slide_type": ""
    },
    "tags": [
     "hide-input"
    ]
   },
   "outputs": [
    {
     "data": {
      "text/plain": [
       "Text(0, 0.5, 'Company Return On Assets \\n 2023 Calculation')"
      ]
     },
     "execution_count": 18,
     "metadata": {},
     "output_type": "execute_result"
    },
    {
     "data": {
      "image/png": "[encoded data removed]",
      "text/plain": [
       "<Figure size 500x300 with 1 Axes>"
      ]
     },
     "metadata": {},
     "output_type": "display_data"
    }
   ],
   "source": [
    "import seaborn as sns\n",
    "f, axs = plt.subplots(1, 1, figsize=(5, 3))\n",
    "sns.scatterplot(x=\"S\", y=\"ROA 2023\", data=df)\n",
    "\n",
    "plt.title('General Positive Relationship Between S-Score and ROA', loc='left')\n",
    "plt.xlabel(\"E Score \\n(Range Between 0-100)\")\n",
    "plt.ylabel(\"Company Return On Assets \\n 2023 Calculation\")"
   ]
  },
  {
   "cell_type": "code",
   "execution_count": 19,
   "id": "06f3bca2-d5a6-4aff-9a9a-5b4afd7c4a6a",
   "metadata": {
    "editable": true,
    "slideshow": {
     "slide_type": ""
    },
    "tags": [
     "hide-input"
    ]
   },
   "outputs": [
    {
     "data": {
      "text/plain": [
       "Text(0, 0.5, 'Company Return On Assets \\n (2023 Calculation)')"
      ]
     },
     "execution_count": 19,
     "metadata": {},
     "output_type": "execute_result"
    },
    {
     "data": {
      "image/png": "[encoded data removed]",
      "text/plain": [
       "<Figure size 500x300 with 1 Axes>"
      ]
     },
     "metadata": {},
     "output_type": "display_data"
    }
   ],
   "source": [
    "import seaborn as sns\n",
    "f, axs = plt.subplots(1, 1, figsize=(5, 3))\n",
    "sns.scatterplot(x=\"G\", y=\"ROA 2023\", data=df)\n",
    "\n",
    "plt.title('General Positive Relationship Between G-Score and ROA', loc='left')\n",
    "plt.xlabel(\"E Score \\n(Range Between 0-100)\")\n",
    "plt.ylabel(\"Company Return On Assets \\n (2023 Calculation)\")"
   ]
  },
  {
   "cell_type": "markdown",
   "id": "8f560325-4e16-477f-a0fc-ed3379160f18",
   "metadata": {},
   "source": [
    "#### Regression 4:\n",
    "Lastly, the final regression was conducted as a method to test the robustness of the study. This final OLS regression excluded the presence of firms operating in the final markets, as proposed by numerous literature conducted on the topic, to avoid biased results in terms of ROA values. The coefficient studied in this regression is the causal effect of a higher ESG Score on the potential outcome of a company's ROA across all sectors, excluding the financial markets.\n",
    "$$\n",
    "ROA_i = \\beta_0 + \\beta_1 ESG_i + U_i\n",
    "$$\n",
    "The findings suggest that the ESG score has a significant positive effect on ROA. The coefficient for ESG is estimated at 0.2201 (p < 0.001), demonstrating that a one-unit increase in the ESG score is associated with a 0.2201 unit increase in ROA. The model exhibits a relatively high R-squared value of 0.344, indicating that the ESG score accounts for approximately 34.4% of the variance in ROA. The constant term, representing the intercept, is estimated at -6.5835 (p < 0.001), implying that even in the absence of ESG considerations, there is a negative impact on ROA. \r\n",
    "The overall model's F-statistic is highly significant (p < 0.001), signifying the model's strong fit to the data. The Durbin-Watson statistic of 1.649 suggests no significant serial correlation in the residuals, and the Jarque-Bera test indicates that the residuals deviate from perfect normality but do not pose a significant concern for the model's validit Provided below is a description of the OLS results generated through this regression nce."
   ]
  },
  {
   "cell_type": "code",
   "execution_count": 21,
   "id": "efdf10d7-6633-440f-9696-58bd1398ee02",
   "metadata": {
    "editable": true,
    "slideshow": {
     "slide_type": ""
    },
    "tags": [
     "hide-input"
    ]
   },
   "outputs": [
    {
     "name": "stdout",
     "output_type": "stream",
     "text": [
      "                            OLS Regression Results                            \n",
      "==============================================================================\n",
      "Dep. Variable:               ROA 2023   R-squared:                       0.344\n",
      "Model:                            OLS   Adj. R-squared:                  0.341\n",
      "Method:                 Least Squares   F-statistic:                     140.8\n",
      "Date:                Mon, 06 Nov 2023   Prob (F-statistic):           2.15e-26\n",
      "Time:                        01:25:06   Log-Likelihood:                -520.03\n",
      "No. Observations:                 271   AIC:                             1044.\n",
      "Df Residuals:                     269   BIC:                             1051.\n",
      "Df Model:                           1                                         \n",
      "Covariance Type:            nonrobust                                         \n",
      "==============================================================================\n",
      "                 coef    std err          t      P>|t|      [0.025      0.975]\n",
      "------------------------------------------------------------------------------\n",
      "const         -6.5835      0.955     -6.891      0.000      -8.464      -4.703\n",
      "ESG            0.2201      0.019     11.864      0.000       0.184       0.257\n",
      "==============================================================================\n",
      "Omnibus:                       65.362   Durbin-Watson:                   1.649\n",
      "Prob(Omnibus):                  0.000   Jarque-Bera (JB):              178.569\n",
      "Skew:                           1.079   Prob(JB):                     1.68e-39\n",
      "Kurtosis:                       6.340   Cond. No.                         490.\n",
      "==============================================================================\n",
      "\n",
      "Notes:\n",
      "[1] Standard Errors assume that the covariance matrix of the errors is correctly specified.\n"
     ]
    }
   ],
   "source": [
    "df_without_Finance = df[df[\"Sector\"] != \"Finance\"]\n",
    "\n",
    "X = df_without_Finance[\"ESG\"]\n",
    "X_and_constant = sm.add_constant(X)\n",
    "Y = df_without_Finance[\"ROA 2023\"]\n",
    "OLS_result4 = sm.OLS(Y, X_and_constant)\n",
    "\n",
    "result4=OLS_result.fit()\n",
    "beta_0_hat = result4.params[0]\n",
    "beta_1_hat = result4.params[1]\n",
    "\n",
    "print(result4.summary())"
   ]
  },
  {
   "cell_type": "markdown",
   "id": "c6e38481-1167-45d3-a0c3-5e7aa0a1368f",
   "metadata": {
    "editable": true,
    "slideshow": {
     "slide_type": ""
    },
    "tags": []
   },
   "source": [
    "Across all four regressions, these results emphasize the importance of ESG factors in assessing a firm's financial performance. Firms with higher ESG and GC scores tended to exhibit higher ROAs, suggesting that responsible and sustainable business practices are positively associated with financial success. Importantly, it is salient to consider the bias associated with the sampling of the dataset, making these findings largely inconclusive. As academics investigate further into the realm of CSR and corporate profitability, it is encouraged that further research is conducted to improve upon the areas of lack within this research. Due to the fact that the data collected for this research stemmed from a free online database where companies can import their own ESG standing, the sample remains biased as it is constructed by companies that have a greater propensity for transparency. Instead, using a more selective dataset of a more diverse range of companies remains salient to find the true causal effect across all firms. Given the inconclusive nature of these results, it remains imperative to investigate the relationship further as the findings hold potential implications for firm operators across emerging markets, underscoring the premium associated with ESG integration."
   ]
  },
  {
   "cell_type": "markdown",
   "id": "ee626470-7e20-4911-acbe-8b354db9c33b",
   "metadata": {
    "editable": true,
    "slideshow": {
     "slide_type": ""
    },
    "tags": []
   },
   "source": [
    "## 5. References"
   ]
  },
  {
   "cell_type": "markdown",
   "id": "ca1302c1-700c-47b7-beb8-a4cea2c53bc6",
   "metadata": {
    "editable": true,
    "slideshow": {
     "slide_type": ""
    },
    "tags": []
   },
   "source": [
    "```{bibliography}\n",
    ":style: alpha\n",
    "```"
   ]
  }
 ],
 "metadata": {
  "kernelspec": {
   "display_name": "Python 3 (ipykernel)",
   "language": "python",
   "name": "python3"
  },
  "language_info": {
   "codemirror_mode": {
    "name": "ipython",
    "version": 3
   },
   "file_extension": ".py",
   "mimetype": "text/x-python",
   "name": "python",
   "nbconvert_exporter": "python",
   "pygments_lexer": "ipython3",
   "version": "3.10.10"
  }
 },
 "nbformat": 4,
 "nbformat_minor": 5
}
