{
 "cells": [
  {
   "cell_type": "code",
   "execution_count": null,
   "id": "92d366fd-3bf5-4d94-acf0-538745511390",
   "metadata": {},
   "outputs": [],
   "source": []
  },
  {
   "cell_type": "code",
   "execution_count": 16,
   "id": "683f0f55-c70d-42a8-8565-12ec39a8efaa",
   "metadata": {},
   "outputs": [],
   "source": [
    "import statsmodels.api as sm\n",
    "import pandas as pd\n",
    "import numpy as np\n",
    "import matplotlib.pyplot as plt\n",
    "import datetime"
   ]
  },
  {
   "cell_type": "code",
   "execution_count": 21,
   "id": "dadf64be-ee56-4cb4-a507-4ad9e8e8938b",
   "metadata": {},
   "outputs": [],
   "source": [
    "data = pd.read_csv(\"emdset.csv\")"
   ]
  },
  {
   "cell_type": "code",
   "execution_count": 22,
   "id": "a66bdaff-787e-4418-ae57-574aba46f5d2",
   "metadata": {},
   "outputs": [
    {
     "data": {
      "text/html": [
       "<div>\n",
       "<style scoped>\n",
       "    .dataframe tbody tr th:only-of-type {\n",
       "        vertical-align: middle;\n",
       "    }\n",
       "\n",
       "    .dataframe tbody tr th {\n",
       "        vertical-align: top;\n",
       "    }\n",
       "\n",
       "    .dataframe thead th {\n",
       "        text-align: right;\n",
       "    }\n",
       "</style>\n",
       "<table border=\"1\" class=\"dataframe\">\n",
       "  <thead>\n",
       "    <tr style=\"text-align: right;\">\n",
       "      <th></th>\n",
       "      <th>Date</th>\n",
       "      <th>Non-ESG EM</th>\n",
       "      <th>ESG EM</th>\n",
       "    </tr>\n",
       "  </thead>\n",
       "  <tbody>\n",
       "    <tr>\n",
       "      <th>0</th>\n",
       "      <td>9-Oct-19</td>\n",
       "      <td>993.01</td>\n",
       "      <td>1082.01</td>\n",
       "    </tr>\n",
       "    <tr>\n",
       "      <th>1</th>\n",
       "      <td>10-Oct-19</td>\n",
       "      <td>996.5</td>\n",
       "      <td>1085.50</td>\n",
       "    </tr>\n",
       "    <tr>\n",
       "      <th>2</th>\n",
       "      <td>11-Oct-19</td>\n",
       "      <td>1,011.54</td>\n",
       "      <td>1100.54</td>\n",
       "    </tr>\n",
       "    <tr>\n",
       "      <th>3</th>\n",
       "      <td>14-Oct-19</td>\n",
       "      <td>1,017.45</td>\n",
       "      <td>1106.45</td>\n",
       "    </tr>\n",
       "    <tr>\n",
       "      <th>4</th>\n",
       "      <td>15-Oct-19</td>\n",
       "      <td>1,019.25</td>\n",
       "      <td>1108.25</td>\n",
       "    </tr>\n",
       "  </tbody>\n",
       "</table>\n",
       "</div>"
      ],
      "text/plain": [
       "        Date Non-ESG EM    ESG EM\n",
       "0   9-Oct-19      993.01  1082.01\n",
       "1  10-Oct-19       996.5  1085.50\n",
       "2  11-Oct-19    1,011.54  1100.54\n",
       "3  14-Oct-19    1,017.45  1106.45\n",
       "4  15-Oct-19    1,019.25  1108.25"
      ]
     },
     "execution_count": 22,
     "metadata": {},
     "output_type": "execute_result"
    }
   ],
   "source": [
    "data.head()"
   ]
  },
  {
   "cell_type": "code",
   "execution_count": 23,
   "id": "00d9b6f7-b021-4a56-be77-1616fde4c028",
   "metadata": {},
   "outputs": [
    {
     "data": {
      "text/html": [
       "<div>\n",
       "<style scoped>\n",
       "    .dataframe tbody tr th:only-of-type {\n",
       "        vertical-align: middle;\n",
       "    }\n",
       "\n",
       "    .dataframe tbody tr th {\n",
       "        vertical-align: top;\n",
       "    }\n",
       "\n",
       "    .dataframe thead th {\n",
       "        text-align: right;\n",
       "    }\n",
       "</style>\n",
       "<table border=\"1\" class=\"dataframe\">\n",
       "  <thead>\n",
       "    <tr style=\"text-align: right;\">\n",
       "      <th></th>\n",
       "      <th>Date</th>\n",
       "      <th>Non-ESG EM</th>\n",
       "      <th>ESG EM</th>\n",
       "    </tr>\n",
       "  </thead>\n",
       "  <tbody>\n",
       "    <tr>\n",
       "      <th>1038</th>\n",
       "      <td>2-Oct-23</td>\n",
       "      <td>951.49</td>\n",
       "      <td>1040.49</td>\n",
       "    </tr>\n",
       "    <tr>\n",
       "      <th>1039</th>\n",
       "      <td>3-Oct-23</td>\n",
       "      <td>939.164</td>\n",
       "      <td>1028.16</td>\n",
       "    </tr>\n",
       "    <tr>\n",
       "      <th>1040</th>\n",
       "      <td>4-Oct-23</td>\n",
       "      <td>927.86</td>\n",
       "      <td>1016.86</td>\n",
       "    </tr>\n",
       "    <tr>\n",
       "      <th>1041</th>\n",
       "      <td>5-Oct-23</td>\n",
       "      <td>930.23</td>\n",
       "      <td>1019.23</td>\n",
       "    </tr>\n",
       "    <tr>\n",
       "      <th>1042</th>\n",
       "      <td>6-Oct-23</td>\n",
       "      <td>937.338</td>\n",
       "      <td>1026.34</td>\n",
       "    </tr>\n",
       "  </tbody>\n",
       "</table>\n",
       "</div>"
      ],
      "text/plain": [
       "          Date Non-ESG EM    ESG EM\n",
       "1038  2-Oct-23      951.49  1040.49\n",
       "1039  3-Oct-23     939.164  1028.16\n",
       "1040  4-Oct-23      927.86  1016.86\n",
       "1041  5-Oct-23      930.23  1019.23\n",
       "1042  6-Oct-23     937.338  1026.34"
      ]
     },
     "execution_count": 23,
     "metadata": {},
     "output_type": "execute_result"
    }
   ],
   "source": [
    "data.tail()"
   ]
  }
 ],
 "metadata": {
  "kernelspec": {
   "display_name": "Python 3 (ipykernel)",
   "language": "python",
   "name": "python3"
  },
  "language_info": {
   "codemirror_mode": {
    "name": "ipython",
    "version": 3
   },
   "file_extension": ".py",
   "mimetype": "text/x-python",
   "name": "python",
   "nbconvert_exporter": "python",
   "pygments_lexer": "ipython3",
   "version": "3.10.10"
  }
 },
 "nbformat": 4,
 "nbformat_minor": 5
}
