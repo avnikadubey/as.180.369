{
 "cells": [
  {
   "cell_type": "markdown",
   "id": "d9cdd406-78c2-4225-83e0-d64265d4ba07",
   "metadata": {},
   "source": [
    "# Identifying the Existance of an ESG-Premium across Emerging Markets"
   ]
  },
  {
   "cell_type": "markdown",
   "id": "b460d8b7-ef8b-4d9d-a292-42f5d99e1adc",
   "metadata": {},
   "source": [
    "### Avnika Dubey, 2024, Johns Hopkins University"
   ]
  },
  {
   "cell_type": "markdown",
   "id": "13458a06-79df-4ff5-a511-330dcfc99f6a",
   "metadata": {},
   "source": [
    "## Abstract\n",
    "\n",
    "At the onset of the 2010s, corporate social responsibility (CSR) gained prominence in industrial organization and global business discussions due to its positive impact on financial performance across developed East Asian, European, and American markets. Given the regulatory, institutional, and cultural differences across developed and developing markets, this research investigates the relationship between environmental, social, and governance (ESG) performance and corporate profitability in emerging markets. The study employs a linear regression approach utilizing a self-created dataset of 236 large-capitalization firms in Brazil, Russia, India, and China (BRIC) to test whether ESG disclosures among emerging market firms lead to superior firm performance from 2010 to 2023. To perform this analysis, each firm within the dataset receives an ESG Performance Score (PS) and Global Compact Score (GC) calculated by the ESGBook databases that are tested against three dependent financial metrics: Return on Assets (ROA), Market Capitalization, and Tobin’s q. The primary hypothesis tests the existence of an ESG-premium among analogous emerging market firms and seeks to quantitatively measure divergence in profitability between companies with high-ESG (PS > 0.5) and minimal-ESG (PS < 0.4) incorporation. This research furthers understanding of the relationship between ESG dimensions and financial performance for emerging market business contexts, beyond the practices of developed markets."
   ]
  },
  {
   "cell_type": "markdown",
   "id": "6f1caf87-9d57-47da-956c-bc7414de2df2",
   "metadata": {},
   "source": [
    "## 1. Introduction\r\n"
   ]
  },
  {
   "cell_type": "markdown",
   "id": "73bdcafe-9845-45f2-a502-d2dffb698438",
   "metadata": {},
   "source": [
    "On the 40th anniversary of the first world climate conference held in Geneva in 1979, a statement was published in the journal BioScience by scientists from 153 nations decrying an urgent need sustainability measure. The publication’s message highlighted the consequences of the accelerating climate crisis, with a strong forewarning that “there is no time to lose\" (Carrington 2019). The heightened focus on climate change over the past two decades has been one of the leading contributors to the growing interest CSR, especially due the disproportionately high rates of emission and unsustainable business practices employed across business and industrial sectors of the Global North. In fact, countries classified by the UN Framework Convention on Climate Change as Annex 1 Global North accounted for 92% of excess emissions, with the G8 nations (the USA, EU-28, Russia, Japan, and Canada) being together responsible for about 85% {cite:t}`quantifying_hickel_2020`. Within the well-developed and capital-intensive markets of East Asia, Europe, and the United States, the robust social pressures of acknowledging unsustainable business practices have catalyzed firms to incorporate ESG solutions into business strategies, exerting a profound influence on management practice, investment strategies, and research over the past two decades {cite:t}`corporate_bansal_2002`,{cite:t}`beyond_dyllick_2002`. A shift has emerged where organizations now face pointed pressure to maximize productivity and profitability while adhering to demands by consumers, suppliers, employees, and public and private actors to institute sustainable CSR measures {cite:t}`outsourcing_javalgi_2009`. To remain competitive and achieve success in contemporary developed markets, firms must prioritize their financial growth while considering and accounting for the social and environmental implications of their activities {cite:t}`development_maas_2014`."
   ]
  },
  {
   "cell_type": "markdown",
   "id": "059835d1-e720-4682-8968-185e6bb10c38",
   "metadata": {},
   "source": [
    "Over the course of the past 20 years, ESG implementation in developed markets have correlated with stronger financial performance, causing a growing number of executives to allocate time and resources to implement proactive CSR strategies. In fact, a survey conducted by the United Nations found that 99% of chief executive officers presiding over companies with over one billion in revenues acknowledge the “important” contributions of sustainability to financial growth, with a large majority of CEOs stressing its “very important” nature {cite:t}`testing_garcia_2020`. In fact, the percentage of CEOs that found “no clear link” between sustainability and business value consistently decreased from 37% in 2013 to 26% in 2019. Considering the benefits to financial performance that result from ESG-integration across developed markets, it remains prudent to investigate the benefits of incorporating socio-environmental responsibility practices across firms within divergent regional contexts. \n"
   ]
  },
  {
   "cell_type": "markdown",
   "id": "1523b18b-6b7c-4eaf-bf8e-2bd8fa756a58",
   "metadata": {},
   "source": [
    "Attitudes regarding CSR differ across geopolitical contexts largely due to the institutional difference hypothesis (IDH), which describes the proactive socio-environmental behavior of companies and their propensity to be rewarded across regional lines {cite:t}`testing_garcia_2020`. The strength of a country’s social, economic, and regulatory institutions largely dictates the robustness with which CSR is promoted and the magnitude of its pay-off. Institutional robustness is strongly correlated with developed nations, resulting in the greatest rates of CSR-inclusion, primarily evident through sustainable business practices and equitable employee treatment. Firms with high levels of ESG integration tend to underscore a resilience to future economic and climate shocks, making them attractive enterprises for investors to invest capital in and enhancing the firms market value. In contrast, the institutional theory hypothesizes that areas with under-developed social, political, and legal institutions tend to value ESG-integration less as the country’s regulatory environment is ill-suited to capture the potential profits associated with CSR. The institutional theory, however, is largely debated as scholars consider the incorporation of ESG in under-developed markets to be of strategic value – allowing for firms to leverage the downtrodden sociopolitical infrastructure of a country to distinguish its enterprise, attract foreign investment, and experience the enhanced profitability that comes from improved socio-environmental oversight {cite:t}`development_maas_2014`. Conversely, the risks of inadequate CSR management within emerging markets are more pronounced, such as damaging international shareholder relationships, prematurely depleting capital stock and natural resources, and negatively influencing consumer perceptions. Irresponsible corporate management results in quantifiable financial declines and the intangible loss of corporate goodwill, an especially detrimental occurrence for emerging market companies already operating with a baseline level of investor uncertainty due to country-specific socio-political considerations."
   ]
  },
  {
   "cell_type": "markdown",
   "id": "59007af0-d3b5-40fc-8468-38e7dbfaabd8",
   "metadata": {},
   "source": [
    "Despite the validity of the IDH inspiring an important discussion on the ESG-premium across regions, majority of research regarding CSR-incorporation has traditionally highlighted developed economies across North America, Europe, and East Asia. Importantly, there exists a lack of literature and data investigating the correlation between CSR and financial profitability within emerging markets which present distinct social, political, and legal landscapes from developed nations. This remains especially salient to understand as the next twenty years will serve as a pivotal opportunity for emerging markets to advance beyond developed markets. In fact, research conducted by the S&P Global finds that aggregate market consumption among emerging markets is expanding at an accelerated rate and is expected to overtake the global market consumption of advanced economies by 2050 {cite:t}`quantifying_hickel_2020`. An important externality associated with increased market activity is environmental pollution, making the proactive inclusion of ESG-initiative among emerging market firms especially salient to prevent magnified levels of socio-environmental damage {cite:t}`bhattacharya_2022`. However, highlighting the ESG-premium across emerging markets remains an essential pre-requisite to encourage emerging market firms to institute proactive and preventative CSR measures. This research aims to address this specific gap, providing literature and data to identify whether a premium exists among emerging markets in the same way that it does across developed markets."
   ]
  },
  {
   "cell_type": "markdown",
   "id": "f7a4b49d-1dd2-4437-8bf3-60b805fbb3d5",
   "metadata": {},
   "source": [
    "An additional debate concurrent with the ESG space is the relationship between CSR and financial performance (FP). Although widely studied across developed markets, the general consensus regarding results are controversial. Many studies point to a positive linear relationship between CSR and FP, while others conclude negative or null results. Despite the variation in results, a 2015 meta-study congregated over 2,000 research journals on the relationship between ESG and FP, confirming that there exists a slight positive correlation on average {cite:t}`pay_margolis_2009`. Extending this debate to the realm of emerging markets will help provide clarity to the ongoing debate. "
   ]
  },
  {
   "cell_type": "markdown",
   "id": "3334ffcd-67e0-4a15-9f1a-d5cf9e88e75c",
   "metadata": {},
   "source": [
    "Ultimately, researchers within the field of industry organization are yet to come to conclusive results on the correlation between CSR and financial performance across divergent markets, indicating that a significant gap still exists within research. Motivated by the aforementioned vacuums, this study leverages a self-created dataset of 236 large-capitalizations firms across Brazil, Russia, India, and China (BRIC) to discern the relationship between ESG integration and corporate profitability among companies within emerging markets. Through this lens, the research aims to identify a correlation between the ESG integration, as measured by ESGBook Performance and Global Compact Score, and the standard metrics of financial performance of Return on Assets (ROA), Market Capitalization, and Tobin’s q. Ultimately, by evaluating the ESG performance of companies across various economic sectors in different regions of the world, this research seeks to make a substantial contribution to the literature on global business management and industrial organization, emphasizing the benefit of and imperative need for CSR adoption beyond developed markets. Moreover, this research proves essential in dismantling neocolonial economic systems as it seeks to identify business management practices and help developing markets reform to achieve their full profit potential while minimizing negative externalities, outperforming developed markets with longstanding histories of global economic privilege. "
   ]
  },
  {
   "cell_type": "markdown",
   "id": "7b0d67d0-a807-4ba8-a2a4-1273685134b5",
   "metadata": {},
   "source": [
    "## 2. Literature Review\n",
    "The consideration of corporate social responsibility was sparked in the early 1990s within management literature through the argumentation of Porter and Van Der Linde, who argued that regulations on environmental standards and governance would make firms more competitive and encourage them to innovate methods to increase profitability, productivity, and effective resource usage {cite:t}`porter_van_1995`. Since the debut of Porter’s Hypothesis, an enormous body of literature has developed questioning the role of sustainability in company strategy and the relationship between environmental and social governance and firm performance.\n",
    "\n",
    "A heated debate remains regarding whether the relationship between CSR and corporate profitability is positive or negative, with numerous studies corroborating both stances. Proponents of the positive relationship examine developed countries, finding that piecemeal incorporation of ESG factors augments firm value and financial performance. In considering environmental standards, literature confirming the importance of environmental regulation on financial performance has been documented across the last twenty years. For instance, {cite:t}`corporate_dowell_2000` found that firms that followed strict international environmental standards often had larger market values, as indicated by their Tobin’s Q, compared to companies that abided by a less severe environmental standard. More recently, {cite:t}`revisiting_gull_2022` re-examined the relationship between environmental and financial performance among hundreds of firms and concluded that the ten firms with the highest environmental sustainability scores fiscally outperformed 80 firms with average environmental scores. Conversely, authors have highlighted the adverse impact of environmental considerations on financial performance, suggesting that the negative impact on profitability results largely due to suffocating accounting standards and excessive spending to meet sustainability goals {cite:t}`managers_cheng_2023`. \n",
    "\n",
    "The same inconclusive stance is less robust when considering the impacts of rigid social and governance measures on profitability. For example, research by {cite:t}`value_serafeim_2017` note that non-financial disclosures related to the regulatory position have longstanding impacts on the future financial performance of a firm as it attracts alternative streams of external investment, increasing their long-term growth targets by about three percentage points. Their findings are corroborated by research by {cite:t}`sustainable_zhang_2022` who explain how diversity in background and perspective among management board enhances the development of productive policies and increases transparency and decrease financial restrictions a company may face. In fact, the positive correlation persists across geographic boundaries as studies by {cite:t}`esg_giannopoulos_2022` and {cite:t}`disclosure_laskar_2016` confirm that across the geopolitically diverse countries of Norway and India, increasing CSR initiatives more focused on augmenting social and governance standards led to improved financial performance. Although the above studies focus on the individual effects of any of the E, S, G factors on financial performance, a litany of more recent research confirms these findings on a more holistic basis by analyzing stakeholder theory to validate the positive relationship between firm performance and cumulative ESG disclosure scores. However, despite much of the robust support for the positive correlation, many reputable studies exist that point to an inconclusive stance regarding data, such as {cite:t}`examining_kalia_2022` who analyze ESG disclosures among healthcare firms in developed and developing economies and find mixed empirical evidence to support a specific direction for the correlation. {cite:t}`examining_kalia_2022` mixed review is corroborated by the research of {cite:t}`esg_khoury_2022` who conducted a similar analysis across the public healthcare sector of 38 countries and found inconclusive evidence. \n",
    "\n",
    "The phenomenon of globalization has further complicated the discussion of CSR and its impacts on profitability. With international norms developed by from global organizations such as the International Monetary Fund (IMF) and World Trade Organization (WTO) and government agencies like the International Labor Organization (ILO), firms are pressured to adopt the ascribed codes of conduct to operate in accordance with international frameworks safeguarding the environment and workers rights. However, the standardized acceptance of these frameworks is not equivalent across international borders, with developed countries abiding by global sustainability frameworks more diligently than emerging markets. The disproportionate adherence to sustainability standards in emerging markets persists as decreased levels of social, labor, and environmental standards result in lower costs for resources and production, rendering it more cost-effective to reject sustainability frameworks compared to competitors operating within developed countries {cite:t}`environmental_duquegrisales_2021`.  These lowered costs call into question whether the competitive advantage of integrating CSR initiatives on financial performance outweigh the cost reductions associated with the status quo, rendering it more. This question has become more salient for both researchers and executives as globalization and CSR has spread across the last few years. \n",
    "\n",
    "### 2.1: International Studies ###\n",
    "\n",
    "Over the past two decades, academia has centered the discussion surrounding CSR and CFP around developed countries, finding a positive correlation between ESG disclosure scores and financial performance {cite:t}`pay_margolis_2009`. However, as academics consider the rise of countries outside of the developed, Western sphere – that is, the newfound ascension of the East Asian Tigers in the late 1990s and the BRIC countries from 2000 to 2010, - studies analyzing data from outside the Global North have challenged the presumption of the positive correlation. While studies investigating the CSR-CFP relationship among European like Germany and North American markets like Canada are plentiful and come to similar conclusions, academics are now turning towards understanding the institutional differences between the Global North and Global South and its implications on institutional organization, socio-environmental sustainability, and corporate profitability {cite:t}`corporate_dobers_2009`. \n",
    "\n",
    "Focusing primarily on developing countries, many of the studies conducted have resulted in divergent results from their developed country counterparts. For instance, a study by {cite:t}`determinant_liu_2009` analyzing 175 companies across China found no significant relationship between financial performance and environmental disclosure. In fact, these findings were corroborated by {cite:t}`environmental_duquegrisales_2021` who analyzed 104 mulitatina firms and found a slight negative correlation between socio-economic governance and economic performance. {cite:t}`corporate_dobers_2009` explain the phenomenon of emerging markets producing mixed results, noting that a country’s unique institutional frameworks and economic stance impact its degree of ESG adoption. The level of ESG adopted then has varying effects on the financial performance of an emerging market firm due to the political and socio-economic circumstances of the country. Other regional factors that impact the degree of ESG adoption include religious and cultural considerations. For instance, a study by {cite:t}`motivations_momin_2013` analyzed 39 executives of multinational subsidies in Bangladesh and found that the practice of the Islamic faith by the management board influenced the levels of transparency and disclosure in business practices due to the faith’s discouragement of corporate self-praise. A consequence of this cultural element was decreased levels of corporate transparency, reduced levels of legal compliance, the rejection of stakeholder’s right to information, and greater noncompliance to health and safety laws. \n",
    "\n",
    "In addition to the difference in institutional backgrounds impacting ESG adoption, many firms within emerging markets are targeted by developed country firms as vessels to conduct high-pollution operations due to the lack of sustainable accountability within the country. For instance, {cite:t}`review_yang_2015` investigate the “race to the bottom” in China where many foreign companies from developed countries seek out Chinese firms faced with weaker environmental regulations and lower compliance costs to conduct operations that would receive significant penalties in developed countries. This consideration has neo-colonial implications as developed countries offshore their environmentally unsustainable production to countries bound by weaker socio-environmental policies, removing an emerging market’s ability to transform its processes to become more sustainable and profitable as well as putting employees and firms at greater risk of long-term, irreversible damage. Instead of recognizing the potential strategic benefit of CSR investments, emerging market firms are forced to perpetually exist within a status quo where profitability arises from interacting with unsustainable and damaging industries while developed nations reap the fiscal and reputational benefits of high-quality, sustainable ESG integration long into the future. *insert section on IDH*\n",
    "\n",
    "Due to the aforementioned considerations, the concept of CSR is relatively new to many emerging market countries. Given their strategic importance as global growth accelerators over the next twenty years though, it is imperative that academics disentangle the mystery surrounding the efficacy of ESG integration in augmenting financial profitability and preventing the negative externalities of accelerated growth among emerging market firms {cite:t}`bhattacharya_2022`. In considering the BRIC countries specifically, disclosure standards vary significantly from country to country and there remains a lack of consensus regarding frameworks for sustainability reporting. Despite the lack of a foundational framework, many international organizations such as the Global Reporting Initiative and the International Sustainability Standard board have taken measurable strides in developing sustainability frameworks designed to address the tailored socio-political contexts and needs of high-income, middle-income, and low-income countries {cite:t}`corporate_dobers_2009`. ESG's growing presence as a central aspect in industrial organization, especially to attract socially conscious consumers and shareholders, motivates researchers to continue addressing the current gaps in CSR literature, verifying the relationship between ESG disclosure and profitability among firms characterized by different market contexts. \n"
   ]
  },
  {
   "cell_type": "markdown",
   "id": "5595dcba-43a4-4efd-8f3c-eb4d1ce88496",
   "metadata": {},
   "source": [
    "## 3. Hypothesis [TBU]"
   ]
  },
  {
   "cell_type": "markdown",
   "id": "c2ef5dbe-9015-4792-bee6-b4a5b1c28785",
   "metadata": {},
   "source": [
    "## 4. Metholodogy\n",
    "This study employed multiple filters to determine the sample. Firstly, due to the geographic focus on emerging markets, the countries Brazil, Russia, India, and China were selected as they act as a well-established dataset representing the frontier of countries within developing markets. Secondly, the firms selected through ESGBook were required to have more than USD $1 billion in annual revenue, representing large market capitalization firms. The focus on large market-capitalization firms is strategic as mid to low capitalization firms within the Global South tend have smaller operations, less subject to the potential benefits of ESG integration. From these initial criterion, 401 firms were included within the study. In continuing the extraction of firms from the dataset, firms that did not disclose high-quality financial data on the Thomson Reuters’ database were removed from the sample to ensure that datapoints were precise and measurable. In a similar vein, firms that failed to disclose specified financial, environmental, social, and corporate governance information on ESGBook were not taken into consideration as the team sought to pinpoint precise rationales for attributed ESG performance scores.\n",
    "\n",
    "### 4.1: Independent Variables: \n",
    "\n",
    "After applying the selection criteria, I arrived at a finalized, self-created sample of 293 disclosed firms with 520 observable datapoints spanning across 2012 to 2023. Each firm’s Performance Score was calculated through an analysis of the company’s annual, CSR, and sustainability reports while its Global Compact score was developed in consideration with the market context and political situation of the country. Both scores are calculated on a scale of 1 to 100, with ~50 being the neutral range. Scores between 30-40 are considered to have poor-ESG performance while those above 50 are performing relatively well. The Performance Score identifies which companies are best suited to outperform over the long-term considering management practices, finite resources, and labor standards. The Global Compact Score approximates reputational risk by providing a normative assessment of the company’s adherence to four principles of the United Nations Global Compact: human rights, labor rights, the environment, and anti-corruption. Both scores provide differing perspectives on a company’s sustainability position and, in tandem, provide the full context of a firm’s sustainability metrics and its relation to its surrounding regulatory and social environment. Importantly, these scores are re-calculated and cleaned daily according to a set of quality data-checks, providing the most timely and consistent data for the study. \n",
    "\n",
    "*Include a chart on ESG performance metrics\n",
    "\n",
    "### 4.2: Dependent Variables\n",
    "\n",
    "The dependent variable of interest is financial performance. In this study, we evaluate a firms performance based on the two accounting and market performance indicators of return on assets (ROA) and Tobin’s Q. ROA is used as proxy for financial performance due to significant literature explaining that financial accounting returns are the best unbiased predictors of firm financial performance {cite:t}`testing_garcia_2020`. Studies on ESG define ROA as the net income’s ratio to total assets, and it’s used as a proxy for financial performance due to its focus on how managerial policies and efficient asset and capital utilization impact earnings and earnings potentials. Under the same premise, a firm’s Tobin’s Q serves as a strong representation of a company’s financial performance as affected by more qualitative, ESG metrics. Tobin’s Q is calculated by computed total market value divided by total assets value, providing insight into how assets are valued across a country’s market {cite:t}`environmental_duquegrisales_2021`. Both metrics have had a long history within panel data regression models and are largely effective in explaining the impact of ESG incorporation on financial profitability.\n",
    "\n",
    "Potentially include control variables"
   ]
  },
  {
   "cell_type": "code",
   "execution_count": 1,
   "id": "21a81b3e-b3bf-4835-a86f-fc2fc5a473da",
   "metadata": {},
   "outputs": [],
   "source": [
    "import pandas as pd"
   ]
  },
  {
   "cell_type": "code",
   "execution_count": 2,
   "id": "b6632a76-ec1d-4b24-9951-060d80248b37",
   "metadata": {},
   "outputs": [
    {
     "data": {
      "text/html": [
       "<div>\n",
       "<style scoped>\n",
       "    .dataframe tbody tr th:only-of-type {\n",
       "        vertical-align: middle;\n",
       "    }\n",
       "\n",
       "    .dataframe tbody tr th {\n",
       "        vertical-align: top;\n",
       "    }\n",
       "\n",
       "    .dataframe thead th {\n",
       "        text-align: right;\n",
       "    }\n",
       "</style>\n",
       "<table border=\"1\" class=\"dataframe\">\n",
       "  <thead>\n",
       "    <tr style=\"text-align: right;\">\n",
       "      <th></th>\n",
       "      <th>Variable</th>\n",
       "      <th>Description</th>\n",
       "      <th>Source</th>\n",
       "    </tr>\n",
       "  </thead>\n",
       "  <tbody>\n",
       "    <tr>\n",
       "      <th>0</th>\n",
       "      <td>ESG</td>\n",
       "      <td>Measured by ranging from 0% to 100%, based on ...</td>\n",
       "      <td>ESGBook</td>\n",
       "    </tr>\n",
       "    <tr>\n",
       "      <th>1</th>\n",
       "      <td>ROA</td>\n",
       "      <td>Return on assets calculated by dividing the re...</td>\n",
       "      <td>Thomas Reuters Database</td>\n",
       "    </tr>\n",
       "    <tr>\n",
       "      <th>2</th>\n",
       "      <td>Tobin's Q</td>\n",
       "      <td>Total market value divided by total assets value</td>\n",
       "      <td>Thomas Reuters Database</td>\n",
       "    </tr>\n",
       "    <tr>\n",
       "      <th>3</th>\n",
       "      <td>SIZE</td>\n",
       "      <td>The natural logarithm of the firm's revenue</td>\n",
       "      <td>Surroca et al. (2010)</td>\n",
       "    </tr>\n",
       "    <tr>\n",
       "      <th>4</th>\n",
       "      <td>LEV</td>\n",
       "      <td>Used debt on total assets to control the level...</td>\n",
       "      <td>Nelling and Webb (2009)</td>\n",
       "    </tr>\n",
       "    <tr>\n",
       "      <th>5</th>\n",
       "      <td>MCAP</td>\n",
       "      <td>The natural logarithm of the firm's market cap...</td>\n",
       "      <td>Mendes-da-Silva and Onusic (2014)</td>\n",
       "    </tr>\n",
       "  </tbody>\n",
       "</table>\n",
       "</div>"
      ],
      "text/plain": [
       "    Variable                                        Description  \\\n",
       "0        ESG  Measured by ranging from 0% to 100%, based on ...   \n",
       "1        ROA  Return on assets calculated by dividing the re...   \n",
       "2  Tobin's Q   Total market value divided by total assets value   \n",
       "3       SIZE        The natural logarithm of the firm's revenue   \n",
       "4        LEV  Used debt on total assets to control the level...   \n",
       "5       MCAP  The natural logarithm of the firm's market cap...   \n",
       "\n",
       "                              Source  \n",
       "0                            ESGBook  \n",
       "1            Thomas Reuters Database  \n",
       "2            Thomas Reuters Database  \n",
       "3              Surroca et al. (2010)  \n",
       "4            Nelling and Webb (2009)  \n",
       "5  Mendes-da-Silva and Onusic (2014)  "
      ]
     },
     "execution_count": 2,
     "metadata": {},
     "output_type": "execute_result"
    }
   ],
   "source": [
    "df = pd.DataFrame({\n",
    "    'Variable':    ['ESG', 'ROA', \"Tobin's Q\", 'SIZE', 'LEV', 'MCAP'],\n",
    "    'Description':   [\"Measured by ranging from 0% to 100%, based on information on governance, environmental, and social pillars of firms\", \n",
    "                      \"Return on assets calculated by dividing the result by total asset\", \n",
    "                      \"Total market value divided by total assets value\", \n",
    "                      \"The natural logarithm of the firm's revenue\", \n",
    "                      \"Used debt on total assets to control the level of indebtedness of the company\", \n",
    "                      \"The natural logarithm of the firm's market capitalization (calculated by multiplying the number of shares of the company with the share price traded on the capital market).\"],\n",
    "    'Source': [\"ESGBook\", \"Thomas Reuters Database\",\"Thomas Reuters Database\",\"Surroca et al. (2010)\",\"Nelling and Webb (2009)\",\"Mendes-da-Silva and Onusic (2014)\"],\n",
    "})\n",
    "\n",
    "df"
   ]
  },
  {
   "cell_type": "code",
   "execution_count": 3,
   "id": "2249b224-66a6-4294-af6a-b4cb59916f37",
   "metadata": {},
   "outputs": [],
   "source": [
    "#How do I get rid of numbers on the side?\n",
    "#How do I hide this on build-jb?"
   ]
  },
  {
   "cell_type": "markdown",
   "id": "18fa190c-0fe0-43c8-8aaf-8b495bc6002b",
   "metadata": {},
   "source": [
    "### 4.3: Regression Methodology\n",
    "\n",
    "Running a typical Monte-Carlo regression, the empirical analysis used the panel dataset with ESG performance data obtained from ESG Book and financial performance data obtained from Thomas Reuters database. To test the effects of ESG integration across emerging markets, four regression models were run to examine the bidirectional relationship of ESG disclosure on financial performance. The bidirectional estimation procedure was utilized to control for potential endogeneity issues. In the first econometric model, the financial metric of ROA was regressed on the CSR variables of ESG Performance Score and Global Compact score, finding a slight positive correlation between higher CSR variables and asset return.  as the dependent variable and the ESG Performance Score as the explanatory variable. In the second regressions the financial metric of Tobin’s Q was regressed on the CSR variables of ESG Performance Score and Global Compact score, indicating no significant correlation between the two. To account for the endogeneity problem, the models were repeated after switching the dependent and independent variables. To clarify, the third test regressed the ESG Performance score on the financial metrics of ROA and Tobin’s Q while the fourth test regressed the Global Compact Score on the ROA and Tobin’s Q metrics. The equations represented across all four trials are mentioned below. *Maybe add control variables?\n"
   ]
  },
  {
   "cell_type": "markdown",
   "id": "23058587-654b-4bc2-a312-6f3f93466043",
   "metadata": {},
   "source": [
    "*Regression 1*\n",
    "$ ROA = β + β_{1}ESG_Score + β_{2}SIZEi + β_{3}LEVi + β_{4}MCAPi + U\n",
    " $\n",
    "\n",
    "*Regression 2*\n",
    "$ Tobin's Q = β + β_{1}ESG_Score + β_{2}SIZEi + β_{3}LEVi + β_{4}MCAPi + Ui $\n",
    "\n",
    "*Regression 3*\n",
    "$ ESG_Score = β + β_{1}ROA + β_{2}SIZEi + β_{3}LEVi + β_{4}MCAPi + Ui $\n",
    "\n",
    "*Regression 4*\n",
    "$ ESG_Score = β + β_{1}Tobin's Q + β_{2}SIZEi + β_{3}LEVi + β_{4}MCAPi + Ui $\n",
    "\n",
    "\n",
    "\n",
    "i\r\n",
    "​1"
   ]
  },
  {
   "cell_type": "markdown",
   "id": "4bce796f-1e26-4a3e-8369-85dcea5a0730",
   "metadata": {},
   "source": [
    "For the purpose of robustness testing, the experiment was conducted again excluding companies from the financial sector to be in line with other empirical studies (Martínez-Ferrero and Frías-Aceituno (2013) and Aras et al. (2010)) {cite:t}`pay_margolis_2009`. Removing companies from the financial sector provided more of an unbiased result as their financial ratios such as their free cash flow differ largely from firms across other economic sectors. Despite removing financial companies from the sample, the results did not change substantially."
   ]
  },
  {
   "cell_type": "markdown",
   "id": "60d53393-eea5-4989-93a0-602d76e25c51",
   "metadata": {},
   "source": [
    "## 5. Results\n",
    "[TBU Next Week]"
   ]
  },
  {
   "cell_type": "markdown",
   "id": "bdab7346-fbf2-4342-8bb8-dfcf9e8acb1c",
   "metadata": {},
   "source": [
    "## References\n",
    "[TBU Next Week]"
   ]
  },
  {
   "cell_type": "markdown",
   "id": "ca1302c1-700c-47b7-beb8-a4cea2c53bc6",
   "metadata": {},
   "source": [
    "```{bibliography}\n",
    ":style: alpha\n",
    "```"
   ]
  }
 ],
 "metadata": {
  "kernelspec": {
   "display_name": "Python 3 (ipykernel)",
   "language": "python",
   "name": "python3"
  },
  "language_info": {
   "codemirror_mode": {
    "name": "ipython",
    "version": 3
   },
   "file_extension": ".py",
   "mimetype": "text/x-python",
   "name": "python",
   "nbconvert_exporter": "python",
   "pygments_lexer": "ipython3",
   "version": "3.10.10"
  }
 },
 "nbformat": 4,
 "nbformat_minor": 5
}
