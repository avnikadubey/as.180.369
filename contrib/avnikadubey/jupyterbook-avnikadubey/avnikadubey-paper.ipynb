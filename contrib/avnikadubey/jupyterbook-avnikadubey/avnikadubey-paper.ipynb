{
 "cells": [
  {
   "cell_type": "markdown",
   "id": "d9cdd406-78c2-4225-83e0-d64265d4ba07",
   "metadata": {},
   "source": [
    "### Avnika's Paper"
   ]
  },
  {
   "cell_type": "markdown",
   "id": "13458a06-79df-4ff5-a511-330dcfc99f6a",
   "metadata": {},
   "source": [
    "## Abstract\n",
    "\n",
    "At the onset of the 2010s, corporate social responsibility (CSR) gained prominence in industrial organization and global business discussions due to its positive impact on financial performance across developed East Asian, European, and American markets. Given the regulatory, institutional, and cultural differences across developed and developing markets, this research investigates the relationship between environmental, social, and governance (ESG) performance and corporate profitability in emerging markets. The study employs a linear regression approach utilizing a self-created dataset of 236 large-capitalization firms in Brazil, Russia, India, and China (BRIC) to test whether ESG disclosures among emerging market firms lead to superior firm performance from 2010 to 2023. To perform this analysis, each firm within the dataset receives an ESG Performance Score (PS) and Global Compact Score (GC) calculated by the ESGBook databases that are tested against three dependent financial metrics: Return on Assets (ROA), Market Capitalization, and Tobin’s q. The primary hypothesis tests the existence of an ESG-premium among analogous emerging market firms and seeks to quantitatively measure divergence in profitability between companies with high-ESG (PS > 0.5) and minimal-ESG (PS < 0.4) incorporation. This research furthers understanding of the relationship between ESG dimensions and financial performance for emerging market business contexts, beyond the practices of developed markets."
   ]
  },
  {
   "cell_type": "markdown",
   "id": "6f1caf87-9d57-47da-956c-bc7414de2df2",
   "metadata": {},
   "source": [
    "## Introduction\n",
    "TEST SENTENCE FOR CODE: The concept of Environmental, Social, and Governance (ESG) has experienced substantial growth within financial markets over the past two decades, exerting a profound influence on investment strategies in both European and American markets. Commencing in the 2010s, a notable influx of capital into ESG-focused funds has emerged as a prominent trend, expected to gain further momentum throughout the 2020s {cite:t} `perez2011python`(D'Amato, 2020). This surge in ESG interest and its implications for corporate profitability has captured the attention of a diverse array of stakeholders, including politicians, consumers, CEOs, retail, and institutional investors. These stakeholders are increasingly attuned to the expanding prevalence and significance of sustainable investing principles in the global economy, exemplified by the ascent of ESG-related equities. Following a decade of extensive analysis into the profound impact of ESG on profitability in European and American markets, a discernible shift is evident among investors who are now eager to integrate Corporate Social Responsibility (CSR) principles into emerging markets (Lee, 2022).\n",
    "\n",
    "On the 40th anniversary of the first world climate conference held in Geneva in 1979, a statement was published in the journal BioScience by scientists from 153 nations decrying an urgent need for sustainability measures. The publication’s message highlighted the consequences of the accelerating climate crisis, with a strong forewarning that “there is no time to lose (The Guardian 2019). The heightened focus on climate change over the past two decades has been one of the leading contributors to the growing interest in corporate social responsibility (CSR), especially due to the disproportionately high rates of emission and unsustainable business practices employed across business and industrial sectors of the Global North. In fact, countries classified by the UN Framework Convention on Climate Change as Annex 1 Global North accounted for 92% of excess emissions, with the G8 nations (the USA, EU-28, Russia, Japan, and Canada) being together responsible for about 85% (Hickel, 2020). Within the well-developed and capital-intensive markets of East Asia, Europe, and the United States, the robust social pressures of acknowledging unsustainable business practices have catalyzed firms to incorporate ESG solutions into business strategies, exerting a profound influence on management practice, investment strategies, and research over the past two decades (Bansal, 2002; Dyllick & Hockerts, 2002). A shift has emerged where organizations now face pointed pressure to maximize productivity and profitability while adhering to demands by consumers, suppliers, employees, and public and private actors to institute sustainable CSR measures (Javalgi et al. 2009). To remain competitive and achieve success in contemporary developed markets, firms must prioritize their financial growth while considering and accounting for the social and environmental implications of their activities (Maas and Reiners, 2014).\n",
    "\r\n",
    "Over the course of the past 20 years, ESG implementation in developed markets hse correlated with stronger financial performance, causing a growing number of executives to allocate time and resources to implement proactive CSR strategies (Lacy, Cooper, Hayward, & Neuberger, 2010). In fact, a survey conducted by the United Nations found that 99% of chief executive officers presiding over companies with over one billion in revenues acknowledge the “important” contributions of sustainability to financial growth, with a large majority of CEOs stressing its “very important” nature (Garcia and Orsato, 2020). In fact, the percentage of CEOswhot found “no clear link” between sustainability and business value consistently decreased from 37% in 2013 to 26% in 2019. Considering the benefits to financial performance that result from ES -integration across developed markets, it remains prudent to investigate the benefits of incorporating socio-environmental responsibility practices across firms within divergent regional contexts.\n",
    " \r\n",
    "Attitudes regarding CSR differ across geopolitical contexts largely due to the institutional difference hypothesis (IDH), which describes the proactive socio-environmental behavior of companies and their propensity to be rewarded across regional lines (Meyer & Rowan, 1977). The strength of a country’s social, economic, and regulatory institutions largely dictates the robustness with which CSR is promoted and the magnitude of its pay-off. Institutional robustness is strongly correlated with developed nations, resulting in the greatest rates of C R-inclusion, primarily evident through sustainable business practices and equitable employee treatment. Firms with high levels of ESG integration tend to underscore a resilience to future economic and climate shocks, making them attractive enterprises for investors to invest capital in and enhancing the firms market value (Cornett, 2016). In contrast, the institutional theory hypothesizes that areas with under-developed social, political, and legal institutions tend to value E G-integration less as the country’s regulatory environment is ill-suited to capture the potential profits associated with CSR. The institutional theory, however, is largely debated as scholars consider the incorporation of ESG in under-developed markets to be of strategic value – allowing for firms to leverage the downtrodden sociopolitical infrastructure of a country to distinguish its enterprise, attract foreign investment, and experience the enhanced profitability that comes from improved socio-environmental oversight (Marquis and Raynard, 2015). Conversely, the risks of inadequate CSR management within emerging markets are more pronounced, such as damaging international shareholder relationships, prematurely depleting capital stock and natural resources, and negatively influencing consumer perceptions. Irresponsible corporate management results in quantifiable financial declines and the intangible loss of corporate goodwill, an especially detrimental occurrence for emerging market companies already operating with a baseline level of investor uncertainty due to count-y specific socio-political considerations\n",
    "\n",
    " \r\n",
    "Despite the validity of the IDH inspiring an important discussion on the ESG-premium across regions, majority of research regarding  SR-incorporation has traditionally highlighted developed economies across North America, Europe, and East Asia. Importantly, there exists a lack of literature and data investigating the correlation between CSR and financial profitability within emerging markets which present distinct social, political, and legal landscapes from developed nations. This remains especially salient to understand as the next twenty years will serve as a pivotal opportunity for emerging markets to advance beyond developed markets. In fact, research conducted he S&P Global finds that aggregate market consumption among emerging markets is expanding at an accelerated rate and is expected to overtake the global market consumption of advanced economies by 2050 (Tanuchua and Shand, 2016). An important externality associated with increased market activity is environmental pollution, making the proactive inclusion of  initiativesive among emerging market firms especially salient to prevent magnified levels of socio-environmental damage (Bhattacharya et al. 2022). However, highlighting the ESG-premium across emerging markets remains an essential pre-requisite to encourage emerging market firms to institute proactive and preventative CSR measures. This research aims to address this specific gap, providing literature and data to identify whether a premium exists among emerging markets in the same way that it does across developed marke\n",
    "ts.\r\n",
    "An additional debate concurrent with the ESG space is the relationship between CSR and financial performance (FP). Although widely studied across developed markets, the general consensus regarding results are controversial. Many studies point to a positive linear relationship between CSR and FP (Margolis, Elfenbein, & Walsh, 2009; Orlitzky, Schmidt, & Rynes, 2003), while others conclude negative or null results (Rodrigo, Duran, & Arenas, 2016; Surroca, Tribó, & Waddock, 2010). Despite the variation in results, a 2015 meta-study congregated over 2,000 research journals on the relationship between ESG and FP, confirming that there exists a slight positive correlation on average (Freide et al. 2015). Extending this debate to the realm of emerging markets will help provide clarity to the ongoing debate. \r\n",
    "Ultimately, researchers within the field of industry organization are yet to come to conclusive results on the correlation between CSR and financial performance across divergent markets, indicating that a significant gap still exists within research. Motivated by the aforementioned vacuums, this study leverages a self-created dataset of 236 large-capitaliztions firms across Brazil, Russia, India, and China (BRIC) to discern the relationship between ESG integration and corporate profitability among companies within emerging markets. Through this lens, the research aims to identify a correlation between the ESG integration, as measured by ESGBook Performance and Global Compact Score, and the standard metrics of financial performance of Return on Assets (ROA), Market Capitalization, and Tobin’s q. Ultimately, by evaluating the ESG performance of companies across various economic sectors in different regions of the world, this research seeks to make a substantial contribution to the literature on global business management and industrial organization, emphasizing the benefit of and imperative need for CSR adoption beyond developed markets. Moreover, this research proves essential in dismantling neocolonial economic systems as it seeks to identify business management practices and help developing markets reform to achieve their full profit potential while minimizing negative externalities, outperforming developed markets with longstanding histories of global economic priviege.\r\n"
   ]
  },
  {
   "cell_type": "markdown",
   "id": "7b0d67d0-a807-4ba8-a2a4-1273685134b5",
   "metadata": {},
   "source": [
    "## Literature Review\n",
    "Compose first draft of literature review"
   ]
  },
  {
   "cell_type": "markdown",
   "id": "5595dcba-43a4-4efd-8f3c-eb4d1ce88496",
   "metadata": {},
   "source": [
    "## Metholodogy\n",
    "This is the approach I took, as well as its justification"
   ]
  },
  {
   "cell_type": "markdown",
   "id": "60d53393-eea5-4989-93a0-602d76e25c51",
   "metadata": {},
   "source": [
    "## Results\n",
    "[TBU Next Week]"
   ]
  },
  {
   "cell_type": "markdown",
   "id": "bdab7346-fbf2-4342-8bb8-dfcf9e8acb1c",
   "metadata": {},
   "source": [
    "## References\n",
    "[TBU Next Week]"
   ]
  },
  {
   "cell_type": "code",
   "execution_count": null,
   "id": "fb052d78-bded-4efa-984c-5c3d97787efd",
   "metadata": {},
   "outputs": [],
   "source": []
  }
 ],
 "metadata": {
  "kernelspec": {
   "display_name": "Python 3 (ipykernel)",
   "language": "python",
   "name": "python3"
  },
  "language_info": {
   "codemirror_mode": {
    "name": "ipython",
    "version": 3
   },
   "file_extension": ".py",
   "mimetype": "text/x-python",
   "name": "python",
   "nbconvert_exporter": "python",
   "pygments_lexer": "ipython3",
   "version": "3.10.10"
  }
 },
 "nbformat": 4,
 "nbformat_minor": 5
}
