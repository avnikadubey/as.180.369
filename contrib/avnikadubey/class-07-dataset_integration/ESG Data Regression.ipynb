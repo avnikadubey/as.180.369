{
 "cells": [
  {
   "cell_type": "markdown",
   "id": "91733375-13eb-4481-9bdb-a94c7e89a511",
   "metadata": {},
   "source": [
    "# Class 07 ESG Data Identification #"
   ]
  },
  {
   "cell_type": "markdown",
   "id": "4ed3eaae-effa-4035-83d7-393cae61b32a",
   "metadata": {},
   "source": [
    "## **Personal Homework Goals**\n",
    "- Import MSCI Non-ESG and ESG Leader Dataset into JupyterLab\n",
    "- Explore dataset and identify head, tail, mean, median, and mode\n",
    "- Try to conduct a preliminary analysis"
   ]
  },
  {
   "cell_type": "markdown",
   "id": "02f9593d-57a2-4f86-8b19-052f7eabc695",
   "metadata": {},
   "source": [
    "##  **Importing the necessary libraries and overview of the dataset**"
   ]
  },
  {
   "cell_type": "code",
   "execution_count": 43,
   "id": "683f0f55-c70d-42a8-8565-12ec39a8efaa",
   "metadata": {},
   "outputs": [],
   "source": [
    "# Library to suppress warnings\n",
    "import warnings\n",
    "warnings.filterwarnings('ignore')\n",
    "\n",
    "# Libraries to help with reading and manipulating data\n",
    "import statsmodels.api as sm\n",
    "import pandas as pd\n",
    "import numpy as np\n",
    "import matplotlib.pyplot as plt\n",
    "import datetime"
   ]
  },
  {
   "cell_type": "markdown",
   "id": "eea71821-d6a0-4e7b-8daa-642f8707bc80",
   "metadata": {},
   "source": [
    "### **Loading the dataset**"
   ]
  },
  {
   "cell_type": "code",
   "execution_count": 31,
   "id": "dadf64be-ee56-4cb4-a507-4ad9e8e8938b",
   "metadata": {},
   "outputs": [],
   "source": [
    "data = pd.read_csv(\"emdset.csv\")"
   ]
  },
  {
   "cell_type": "code",
   "execution_count": 32,
   "id": "3f769b3b-758b-4d6e-a2bf-6c9af9701724",
   "metadata": {},
   "outputs": [],
   "source": [
    "df = data.copy()"
   ]
  },
  {
   "cell_type": "markdown",
   "id": "b31483c6-a935-4c5d-91da-ecaa8a755716",
   "metadata": {},
   "source": [
    "### Data Overview"
   ]
  },
  {
   "cell_type": "code",
   "execution_count": 44,
   "id": "a66bdaff-787e-4418-ae57-574aba46f5d2",
   "metadata": {},
   "outputs": [
    {
     "data": {
      "text/html": [
       "<div>\n",
       "<style scoped>\n",
       "    .dataframe tbody tr th:only-of-type {\n",
       "        vertical-align: middle;\n",
       "    }\n",
       "\n",
       "    .dataframe tbody tr th {\n",
       "        vertical-align: top;\n",
       "    }\n",
       "\n",
       "    .dataframe thead th {\n",
       "        text-align: right;\n",
       "    }\n",
       "</style>\n",
       "<table border=\"1\" class=\"dataframe\">\n",
       "  <thead>\n",
       "    <tr style=\"text-align: right;\">\n",
       "      <th></th>\n",
       "      <th>Date</th>\n",
       "      <th>Non-ESG EM</th>\n",
       "      <th>ESG EM</th>\n",
       "    </tr>\n",
       "  </thead>\n",
       "  <tbody>\n",
       "    <tr>\n",
       "      <th>0</th>\n",
       "      <td>9-Oct-19</td>\n",
       "      <td>993.01</td>\n",
       "      <td>1082.01</td>\n",
       "    </tr>\n",
       "    <tr>\n",
       "      <th>1</th>\n",
       "      <td>10-Oct-19</td>\n",
       "      <td>996.5</td>\n",
       "      <td>1085.50</td>\n",
       "    </tr>\n",
       "    <tr>\n",
       "      <th>2</th>\n",
       "      <td>11-Oct-19</td>\n",
       "      <td>1,011.54</td>\n",
       "      <td>1100.54</td>\n",
       "    </tr>\n",
       "    <tr>\n",
       "      <th>3</th>\n",
       "      <td>14-Oct-19</td>\n",
       "      <td>1,017.45</td>\n",
       "      <td>1106.45</td>\n",
       "    </tr>\n",
       "    <tr>\n",
       "      <th>4</th>\n",
       "      <td>15-Oct-19</td>\n",
       "      <td>1,019.25</td>\n",
       "      <td>1108.25</td>\n",
       "    </tr>\n",
       "  </tbody>\n",
       "</table>\n",
       "</div>"
      ],
      "text/plain": [
       "        Date Non-ESG EM    ESG EM\n",
       "0   9-Oct-19      993.01  1082.01\n",
       "1  10-Oct-19       996.5  1085.50\n",
       "2  11-Oct-19    1,011.54  1100.54\n",
       "3  14-Oct-19    1,017.45  1106.45\n",
       "4  15-Oct-19    1,019.25  1108.25"
      ]
     },
     "execution_count": 44,
     "metadata": {},
     "output_type": "execute_result"
    }
   ],
   "source": [
    "#Shows first five observations\n",
    "data.head()"
   ]
  },
  {
   "cell_type": "code",
   "execution_count": 45,
   "id": "00d9b6f7-b021-4a56-be77-1616fde4c028",
   "metadata": {},
   "outputs": [
    {
     "data": {
      "text/html": [
       "<div>\n",
       "<style scoped>\n",
       "    .dataframe tbody tr th:only-of-type {\n",
       "        vertical-align: middle;\n",
       "    }\n",
       "\n",
       "    .dataframe tbody tr th {\n",
       "        vertical-align: top;\n",
       "    }\n",
       "\n",
       "    .dataframe thead th {\n",
       "        text-align: right;\n",
       "    }\n",
       "</style>\n",
       "<table border=\"1\" class=\"dataframe\">\n",
       "  <thead>\n",
       "    <tr style=\"text-align: right;\">\n",
       "      <th></th>\n",
       "      <th>Date</th>\n",
       "      <th>Non-ESG EM</th>\n",
       "      <th>ESG EM</th>\n",
       "    </tr>\n",
       "  </thead>\n",
       "  <tbody>\n",
       "    <tr>\n",
       "      <th>1038</th>\n",
       "      <td>2-Oct-23</td>\n",
       "      <td>951.49</td>\n",
       "      <td>1040.49</td>\n",
       "    </tr>\n",
       "    <tr>\n",
       "      <th>1039</th>\n",
       "      <td>3-Oct-23</td>\n",
       "      <td>939.164</td>\n",
       "      <td>1028.16</td>\n",
       "    </tr>\n",
       "    <tr>\n",
       "      <th>1040</th>\n",
       "      <td>4-Oct-23</td>\n",
       "      <td>927.86</td>\n",
       "      <td>1016.86</td>\n",
       "    </tr>\n",
       "    <tr>\n",
       "      <th>1041</th>\n",
       "      <td>5-Oct-23</td>\n",
       "      <td>930.23</td>\n",
       "      <td>1019.23</td>\n",
       "    </tr>\n",
       "    <tr>\n",
       "      <th>1042</th>\n",
       "      <td>6-Oct-23</td>\n",
       "      <td>937.338</td>\n",
       "      <td>1026.34</td>\n",
       "    </tr>\n",
       "  </tbody>\n",
       "</table>\n",
       "</div>"
      ],
      "text/plain": [
       "          Date Non-ESG EM    ESG EM\n",
       "1038  2-Oct-23      951.49  1040.49\n",
       "1039  3-Oct-23     939.164  1028.16\n",
       "1040  4-Oct-23      927.86  1016.86\n",
       "1041  5-Oct-23      930.23  1019.23\n",
       "1042  6-Oct-23     937.338  1026.34"
      ]
     },
     "execution_count": 45,
     "metadata": {},
     "output_type": "execute_result"
    }
   ],
   "source": [
    "#Shows last five observations\n",
    "data.tail()"
   ]
  },
  {
   "cell_type": "code",
   "execution_count": 47,
   "id": "c2e10f3e-551c-4075-92f2-220b8db75934",
   "metadata": {},
   "outputs": [
    {
     "name": "stdout",
     "output_type": "stream",
     "text": [
      "<class 'pandas.core.frame.DataFrame'>\n",
      "RangeIndex: 1043 entries, 0 to 1042\n",
      "Data columns (total 3 columns):\n",
      " #   Column       Non-Null Count  Dtype  \n",
      "---  ------       --------------  -----  \n",
      " 0   Date         1043 non-null   object \n",
      " 1   Non-ESG EM   1043 non-null   object \n",
      " 2   ESG EM       1043 non-null   float64\n",
      "dtypes: float64(1), object(2)\n",
      "memory usage: 24.6+ KB\n"
     ]
    }
   ],
   "source": [
    "data.info()\n",
    "# There are three 1043 data points of study, interestingly two of them objects and one of them is a float64"
   ]
  },
  {
   "cell_type": "code",
   "execution_count": 60,
   "id": "68c04d1d-719c-4444-b10a-268fce732813",
   "metadata": {},
   "outputs": [
    {
     "name": "stdout",
     "output_type": "stream",
     "text": [
      "The ESG dataset values range from 847.2 to 1533.93\n"
     ]
    }
   ],
   "source": [
    "#Find the range of ESG Market Capitalizations\n",
    "max_ESG = df[\"ESG EM\"].max()\n",
    "min_ESG = df[\"ESG EM\"].min()\n",
    "print(\"The ESG dataset values range from\", min_ESG, \"to\", max_ESG)"
   ]
  },
  {
   "cell_type": "code",
   "execution_count": 64,
   "id": "2e3707eb-c534-4cd2-b975-96587392ecd0",
   "metadata": {},
   "outputs": [],
   "source": [
    "#Find the range of Non-ESG Market Capitalizations\n",
    "#max_NonESG = df[\"Non-ESG EM\"].max()\n",
    "#min_NonESG = df[\"Non-ESG EM\"].min()\n",
    "#print(\"The Non-ESG EM dataset values range from\", min_NonESG, \"to\", max_NonESG)"
   ]
  },
  {
   "cell_type": "code",
   "execution_count": null,
   "id": "a4b32832-2b16-425a-9616-0a76acbb8eb3",
   "metadata": {},
   "outputs": [],
   "source": []
  }
 ],
 "metadata": {
  "kernelspec": {
   "display_name": "Python 3 (ipykernel)",
   "language": "python",
   "name": "python3"
  },
  "language_info": {
   "codemirror_mode": {
    "name": "ipython",
    "version": 3
   },
   "file_extension": ".py",
   "mimetype": "text/x-python",
   "name": "python",
   "nbconvert_exporter": "python",
   "pygments_lexer": "ipython3",
   "version": "3.10.10"
  }
 },
 "nbformat": 4,
 "nbformat_minor": 5
}
